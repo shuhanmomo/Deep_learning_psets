{
  "cells": [
    {
      "cell_type": "code",
      "execution_count": 1,
      "metadata": {},
      "outputs": [
        {
          "name": "stdout",
          "output_type": "stream",
          "text": [
            "2.4.1\n",
            "cu118\n"
          ]
        }
      ],
      "source": [
        "import torch\n",
        "\n",
        "\n",
        "def format_pytorch_version(version):\n",
        "    return version.split(\"+\")[0]\n",
        "\n",
        "\n",
        "TORCH_version = torch.__version__\n",
        "TORCH = format_pytorch_version(TORCH_version)\n",
        "\n",
        "\n",
        "def format_cuda_version(version):\n",
        "    return \"cu\" + version.replace(\".\", \"\")\n",
        "\n",
        "\n",
        "CUDA_version = torch.version.cuda\n",
        "CUDA = format_cuda_version(CUDA_version)\n",
        "print(TORCH)\n",
        "print(CUDA)"
      ]
    },
    {
      "cell_type": "code",
      "execution_count": 2,
      "metadata": {
        "id": "U_Cl8xLfu9PA"
      },
      "outputs": [],
      "source": [
        "#Basic pre-reqs:\n",
        "\n",
        "import torch\n",
        "\n",
        "\n",
        "def format_pytorch_version(version):\n",
        "  return version.split('+')[0]\n",
        "\n",
        "TORCH_version = torch.__version__\n",
        "TORCH = format_pytorch_version(TORCH_version)\n",
        "\n",
        "def format_cuda_version(version):\n",
        "  return 'cu' + version.replace('.', '')\n",
        "\n",
        "CUDA_version = torch.version.cuda\n",
        "CUDA = format_cuda_version(CUDA_version)\n",
        "\n",
        "\n",
        "# !pip install torch_scatter torch_sparse torch_cluster torch_spline_conv -f https://data.pyg.org/whl/torch-2.4.0+cu118.html\n",
        "# !pip install torch-geometric\n",
        "\n",
        "import numpy as np\n",
        "from torch.autograd import Variable\n",
        "from matplotlib import pyplot as plt\n",
        "import torch\n",
        "from torch import nn\n",
        "import math\n",
        "from torch.functional import F\n",
        "from torch.optim import Adam\n",
        "from torch_geometric.nn import MessagePassing, global_max_pool\n",
        "from torchvision import datasets, transforms\n",
        "from torch_geometric.data import Data, DataLoader\n",
        "import torch.utils.data as data_utils\n",
        "import torch_geometric\n",
        "from torch_scatter import scatter_max\n",
        "import dataclasses\n",
        "import networkx as nx\n",
        "from typing import *\n",
        "from tqdm import tqdm\n",
        "import os\n",
        "import jax\n",
        "from scipy.integrate import odeint\n",
        "from torch_geometric.nn import GCNConv\n",
        "import copy\n",
        "\n",
        "from torch_geometric.utils import add_self_loops, degree, remove_self_loops\n",
        "\n",
        "NUM_EPOCHS = 20\n",
        "LR = 5e-4\n",
        "device = torch.device(\"cuda\")\n",
        "%matplotlib inline"
      ]
    },
    {
      "cell_type": "markdown",
      "metadata": {
        "id": "5oi8im4AvN6R"
      },
      "source": [
        "\n",
        "## Training Utilities"
      ]
    },
    {
      "cell_type": "code",
      "execution_count": 3,
      "metadata": {
        "id": "g8bMm_cdvXE6"
      },
      "outputs": [],
      "source": [
        "@dataclasses.dataclass\n",
        "class TrainResult:\n",
        "    r\"\"\"\n",
        "    A collection containing everything we need to know about the training results\n",
        "    \"\"\"\n",
        "\n",
        "    num_epochs: int\n",
        "    lr: float\n",
        "\n",
        "    # The trained model\n",
        "    model: nn.Module\n",
        "\n",
        "    # Training loss (saved at each iteration in `train_epoch`)\n",
        "    train_losses: List[float]\n",
        "\n",
        "    # Training accuracies, before training and after each epoch\n",
        "    train_accs: List[float]\n",
        "\n",
        "    # Validation accuracies, before training and after each epoch\n",
        "    val_accs: List[float]\n",
        "\n",
        "\n",
        "def learning_curve(result: TrainResult, *, title: str = \"Learning Curve\"):\n",
        "    r\"\"\"\n",
        "    Plot the training loss, training accuracy, and validation accuracy versus\n",
        "    epochs taken.\n",
        "    \"\"\"\n",
        "    fig, ax_loss = plt.subplots(figsize=(8, 5))\n",
        "    ax_loss.set_title(title, fontsize=16)\n",
        "    ax_loss.set_xlabel(\"Epoch\", fontsize=12)\n",
        "\n",
        "    l_trloss = ax_loss.plot(\n",
        "        torch.arange(len(result.train_losses))\n",
        "        / len(result.train_losses)\n",
        "        * result.num_epochs,\n",
        "        result.train_losses,\n",
        "        label=\"Train loss\",\n",
        "        color=\"C0\",\n",
        "    )\n",
        "    ax_loss.set_ylim(0, max(result.train_losses))\n",
        "    ax_loss.set_ylabel(\"Train loss\", color=\"C0\", fontsize=12)\n",
        "    ax_loss.tick_params(axis=\"y\", labelcolor=\"C0\")\n",
        "\n",
        "    ax_acc = ax_loss.twinx()\n",
        "    if len(result.val_accs):\n",
        "        l_valacc = ax_acc.plot(result.val_accs, label=\"Val\", color=\"C1\")\n",
        "    else:\n",
        "        l_valacc = ()\n",
        "    ax_acc.set_ylim(0, max(max(result.val_accs), 1))\n",
        "    ax_acc.set_ylabel(\"Validation\", color=\"C1\", fontsize=12)\n",
        "    ax_acc.tick_params(axis=\"y\", labelcolor=\"C1\")\n",
        "\n",
        "    lines = l_trloss + l_valacc\n",
        "\n",
        "    ax_loss.legend(lines, [l.get_label() for l in lines], loc=\"upper left\", fontsize=13)\n",
        "\n",
        "\n",
        "def train_nn(\n",
        "    model,\n",
        "    train_dataset,\n",
        "    test_dataset,\n",
        "    batch_size=32,\n",
        "    num_epochs=NUM_EPOCHS,\n",
        "    lr=LR,\n",
        "    graph=True,\n",
        "    criterion=nn.CrossEntropyLoss(),\n",
        "    regression=True,\n",
        "):\n",
        "\n",
        "    train_result = TrainResult(\n",
        "        num_epochs, lr, model, train_losses=[], train_accs=[], val_accs=[]\n",
        "    )\n",
        "\n",
        "    if graph:\n",
        "        train_loader = torch_geometric.loader.DataLoader(\n",
        "            train_dataset, batch_size=batch_size, shuffle=True\n",
        "        )\n",
        "        test_loader = torch_geometric.loader.DataLoader(\n",
        "            test_dataset, batch_size=batch_size, shuffle=False\n",
        "        )\n",
        "    else:\n",
        "        train_loader = torch.utils.data.DataLoader(\n",
        "            train_dataset, batch_size=batch_size, shuffle=True\n",
        "        )\n",
        "        test_loader = torch.utils.data.DataLoader(\n",
        "            test_dataset, batch_size=batch_size, shuffle=False\n",
        "        )\n",
        "\n",
        "    optimizer = torch.optim.Adam(model.parameters(), lr=lr)\n",
        "    model.train()\n",
        "    total_train = 0\n",
        "    for epoch in range(num_epochs):\n",
        "\n",
        "        model.train()\n",
        "        for datapoint in tqdm(train_loader):\n",
        "            if graph:\n",
        "                datapoint = datapoint.to(device)\n",
        "                X, y = datapoint, datapoint.y\n",
        "            else:\n",
        "                X, y = datapoint[0].to(device), datapoint[1].to(device)\n",
        "            optimizer.zero_grad()\n",
        "            output = model(X)\n",
        "\n",
        "            loss = criterion(output, y)\n",
        "            train_result.train_losses.append(loss.item())\n",
        "            total_train += loss.item()\n",
        "            loss.backward()\n",
        "            optimizer.step()\n",
        "\n",
        "        total_train = total_train / len(train_loader)\n",
        "\n",
        "        model.eval()\n",
        "        total_val = 0\n",
        "        with torch.no_grad():\n",
        "            for bidx, datapoint in enumerate(test_loader):\n",
        "                if graph:\n",
        "                    datapoint = datapoint.to(device)\n",
        "                    X, y = datapoint, datapoint.y\n",
        "                else:\n",
        "                    X, y = datapoint[0].to(device), datapoint[1].to(device)\n",
        "                output = model(X)\n",
        "                if regression:\n",
        "                    total_val += criterion(output, y).item()\n",
        "                else:\n",
        "                    total_val += torch.sum(\n",
        "                        torch.argmax(output, dim=-1) == y\n",
        "                    ).item() / output.size(dim=0)\n",
        "        train_result.val_accs.append(total_val / len(test_loader))\n",
        "\n",
        "        if regression:\n",
        "            print(\n",
        "                \"Epoch {}: Train Loss={} Validation Loss={}\".format(\n",
        "                    epoch, total_train, train_result.val_accs[-1]\n",
        "                )\n",
        "            )\n",
        "        else:\n",
        "            print(\n",
        "                \"Epoch {}: Train Loss={} Validation Accuracy={}%\".format(\n",
        "                    epoch, total_train, train_result.val_accs[-1] * 100\n",
        "                )\n",
        "            )\n",
        "\n",
        "    return train_result"
      ]
    },
    {
      "cell_type": "markdown",
      "metadata": {
        "id": "aNMmnIQrvcrz"
      },
      "source": [
        "## GNN Architecture\n",
        "\n",
        "Graph neural networks subscribe to a slightly different API from [pytorch geometric](https://pytorch-geometric.readthedocs.io/en/latest/). In addition to the input features of shape [N, in_channels] for N nodes and `in_channels` node features per node, they also expect an edge_index tensor of shape [2, E] for E edges that specifies the *structure* of the graph.\n",
        "\n",
        "Instead of sliding window convolutions used in the CNN, Graph neural networks use graph convolutions implemented via message passing. There are many ways to aggregate and normalize messages during graph convolutions. Here we will be using [Graph Convolutional Networks](https://arxiv.org/abs/1609.02907) (GCN).\n",
        "\n",
        "GCNs normalize the messages by *both* the degrees from the source node and target node. More specifically, GCN message passing has the following form.\n",
        "\n",
        "$$x_i^{(k)} = \\sum_{j\\in{\\mathcal{N}(i)\\cup{\\{i\\}}}}C\\Big(W\\cdot{x_j^{(k-1)}}\\Big)+b$$\n",
        "\n",
        "\n",
        "$$C=\\frac{1}{\\sqrt{\\text{deg}(i)}\\cdot\\sqrt{\\text{deg}(j)}}$$\n",
        "\n",
        "Read the following code to see how a graph convolutional layer can be implemented. These layers are then interleaved with ReLU nonlinearities and then passed through `scatter_max` ([docs](https://pytorch-scatter.readthedocs.io/en/1.3.0/functions/max.html)). Think about:\n",
        "  - Why is `scatter_max` needed (Hint: try not including it and see what happens)?\n",
        "  - How does `scatter_max` alter the shape of the activations"
      ]
    },
    {
      "cell_type": "code",
      "execution_count": 4,
      "metadata": {
        "id": "9YeRU46QviT9"
      },
      "outputs": [],
      "source": [
        "class GCNConv(MessagePassing):\n",
        "    def __init__(self, in_channels, out_channels):\n",
        "        super().__init__(aggr=\"add\")\n",
        "        self.lin = nn.Linear(in_channels, out_channels, bias=False)\n",
        "        self.bias = nn.Parameter(torch.Tensor(out_channels))\n",
        "\n",
        "        self.reset_parameters()\n",
        "\n",
        "    def reset_parameters(self):\n",
        "        self.lin.reset_parameters()\n",
        "        self.bias.data.zero_()\n",
        "\n",
        "    def forward(self, x, edge_index):\n",
        "        # x has shape [N, in_channels]\n",
        "        # edge_index has shape [2, E]\n",
        "        edge_index, _ = add_self_loops(edge_index, num_nodes=x.size(0))\n",
        "        x = self.lin(x)\n",
        "\n",
        "        row, col = edge_index\n",
        "        deg = degree(col, x.size(0), dtype=x.dtype)\n",
        "        deg_inv_sqrt = deg.pow(-0.5)\n",
        "\n",
        "        norm = deg_inv_sqrt[row] * deg_inv_sqrt[col]\n",
        "\n",
        "        out = self.propagate(edge_index, x=x, norm=norm)\n",
        "        out += self.bias\n",
        "\n",
        "        return out\n",
        "\n",
        "    def message(self, x_j, norm):\n",
        "        return norm.view(-1, 1) * x_j\n",
        "\n",
        "\n",
        "class GNN(torch.nn.Module):\n",
        "    def __init__(self, in_channels=3, out_channels=10):\n",
        "        super(GNN, self).__init__()\n",
        "        self.conv1 = GCNConv(in_channels, 16)\n",
        "        self.conv2 = GCNConv(16, 32)\n",
        "        self.conv3 = GCNConv(32, 48)\n",
        "        self.conv4 = GCNConv(48, 64)\n",
        "        self.linear1 = torch.nn.Linear(64, 64)\n",
        "        self.linear2 = torch.nn.Linear(64, out_channels)\n",
        "\n",
        "    def forward(self, data):\n",
        "        # Graph convolutional layers\n",
        "        x, edge_index = data.x, data.edge_index\n",
        "        x = self.conv1(x, edge_index)\n",
        "        x = F.relu(x)\n",
        "        x = self.conv2(x, edge_index)\n",
        "        x = F.relu(x)\n",
        "        x = self.conv3(x, edge_index)\n",
        "        x = F.relu(x)\n",
        "        x = self.conv4(x, edge_index)\n",
        "        x = F.relu(x)\n",
        "\n",
        "        # scatter_max\n",
        "        x, _ = scatter_max(x, data.batch, dim=0)\n",
        "\n",
        "        # linear\n",
        "        x = self.linear1(x)\n",
        "        x = F.relu(x)\n",
        "        x = self.linear2(x)\n",
        "        return x"
      ]
    },
    {
      "cell_type": "markdown",
      "metadata": {
        "id": "5VG6QXIPwJFo"
      },
      "source": [
        "# Molecules\n",
        "\n",
        "In this problem we will be trying to predict water solubility of a molecule from its chemical structure. The water solubility of a molecule is a measure of the amount of chemical substance that can dissolve in water at a specific temperature. The unit of  solubility is in mg/L.\n",
        "\n",
        "Molecules can be represented in a graph structure in which the nodes are atoms and the edges are bonds between atoms or as an image in the form of a SMILES line notation. Both representations have the same information.\n",
        "\n",
        "Fill in the rest of the code.\n",
        "\n",
        "![download-2.png](data:image/png;base64,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)"
      ]
    },
    {
      "cell_type": "code",
      "execution_count": 8,
      "metadata": {
        "id": "OQYSNgC6wTRv"
      },
      "outputs": [
        {
          "name": "stderr",
          "output_type": "stream",
          "text": [
            "  0%|          | 0/1128 [00:00<?, ?it/s]C:\\Users\\moumo\\AppData\\Local\\Temp\\ipykernel_31100\\2164274130.py:27: MatplotlibDeprecationWarning: The tostring_rgb function was deprecated in Matplotlib 3.8 and will be removed in 3.10. Use buffer_rgba instead.\n",
            "  image_from_plot = np.frombuffer(fig.canvas.tostring_rgb(), dtype=np.uint8)\n",
            "100%|██████████| 1128/1128 [00:33<00:00, 33.64it/s]\n"
          ]
        }
      ],
      "source": [
        "from torch_geometric.datasets import MoleculeNet\n",
        "from torchdrug import data as tddata\n",
        "from matplotlib.backends.backend_agg import FigureCanvasAgg as FigureCanvas\n",
        "from matplotlib.figure import Figure\n",
        "from IPython.display import clear_output\n",
        "\n",
        "dataset = MoleculeNet(root=\"/tmp/ESOL\", name=\"ESOL\")\n",
        "dataset = dataset.shuffle()\n",
        "\n",
        "graph_dataset = []\n",
        "image_dataset = []\n",
        "data_els = []\n",
        "for data_el in tqdm(dataset):\n",
        "    try:\n",
        "        mol = tddata.Molecule.from_smiles(data_el.smiles)\n",
        "    except:\n",
        "        continue\n",
        "\n",
        "    fig = Figure(figsize=(2, 2))\n",
        "    canvas = FigureCanvas(fig)\n",
        "    ax = fig.gca()\n",
        "\n",
        "    ax.axis(\"off\")\n",
        "    p = mol.visualize(ax=ax)\n",
        "    canvas.draw()  # draw the canvas, cache the renderer\n",
        "\n",
        "    image_from_plot = np.frombuffer(fig.canvas.tostring_rgb(), dtype=np.uint8)\n",
        "    image_from_plot = image_from_plot.reshape(\n",
        "        fig.canvas.get_width_height()[::-1] + (3,)\n",
        "    )\n",
        "\n",
        "    plt.close(fig)\n",
        "    plt.cla()\n",
        "    plt.close(\"all\")\n",
        "    if data_el.x.shape[0] > 0:\n",
        "        image_dataset.append(\n",
        "            (\n",
        "                torch.tensor(image_from_plot).type(torch.FloatTensor).permute(2, 0, 1),\n",
        "                torch.squeeze(data_el.y),\n",
        "            )\n",
        "        )\n",
        "        graph_dataset.append(\n",
        "            Data(\n",
        "                x=data_el.x.type(torch.FloatTensor),\n",
        "                edge_index=data_el.edge_index,\n",
        "                edge_attr=data_el.edge_attr,\n",
        "                smiles=data_el.smiles,\n",
        "                y=data_el.y,\n",
        "            )\n",
        "        )\n",
        "        data_els.append(data_el)\n",
        "\n",
        "num_train = 2 * len(graph_dataset) // 3"
      ]
    },
    {
      "cell_type": "code",
      "execution_count": 9,
      "metadata": {
        "id": "pVDr25bgwczY"
      },
      "outputs": [
        {
          "name": "stderr",
          "output_type": "stream",
          "text": [
            "100%|██████████| 24/24 [00:01<00:00, 17.04it/s]\n"
          ]
        },
        {
          "name": "stdout",
          "output_type": "stream",
          "text": [
            "Epoch 0: Train Loss=13.402704854806265 Validation Loss=14.041149854660034\n"
          ]
        },
        {
          "name": "stderr",
          "output_type": "stream",
          "text": [
            "100%|██████████| 24/24 [00:00<00:00, 176.47it/s]\n"
          ]
        },
        {
          "name": "stdout",
          "output_type": "stream",
          "text": [
            "Epoch 1: Train Loss=11.079787955515917 Validation Loss=7.8187479972839355\n"
          ]
        },
        {
          "name": "stderr",
          "output_type": "stream",
          "text": [
            "100%|██████████| 24/24 [00:00<00:00, 176.48it/s]\n"
          ]
        },
        {
          "name": "stdout",
          "output_type": "stream",
          "text": [
            "Epoch 2: Train Loss=5.541143436640225 Validation Loss=4.333878258864085\n"
          ]
        },
        {
          "name": "stderr",
          "output_type": "stream",
          "text": [
            "100%|██████████| 24/24 [00:00<00:00, 186.05it/s]\n"
          ]
        },
        {
          "name": "stdout",
          "output_type": "stream",
          "text": [
            "Epoch 3: Train Loss=4.690108041771986 Validation Loss=4.333628952503204\n"
          ]
        },
        {
          "name": "stderr",
          "output_type": "stream",
          "text": [
            "100%|██████████| 24/24 [00:00<00:00, 180.45it/s]\n"
          ]
        },
        {
          "name": "stdout",
          "output_type": "stream",
          "text": [
            "Epoch 4: Train Loss=4.708872764508292 Validation Loss=4.28902421394984\n"
          ]
        },
        {
          "name": "stderr",
          "output_type": "stream",
          "text": [
            "100%|██████████| 24/24 [00:00<00:00, 185.96it/s]\n"
          ]
        },
        {
          "name": "stdout",
          "output_type": "stream",
          "text": [
            "Epoch 5: Train Loss=4.626000114993932 Validation Loss=4.33606477578481\n"
          ]
        },
        {
          "name": "stderr",
          "output_type": "stream",
          "text": [
            "100%|██████████| 24/24 [00:00<00:00, 187.51it/s]\n"
          ]
        },
        {
          "name": "stdout",
          "output_type": "stream",
          "text": [
            "Epoch 6: Train Loss=4.553141412996446 Validation Loss=4.229243298371633\n"
          ]
        },
        {
          "name": "stderr",
          "output_type": "stream",
          "text": [
            "100%|██████████| 24/24 [00:00<00:00, 188.98it/s]\n"
          ]
        },
        {
          "name": "stdout",
          "output_type": "stream",
          "text": [
            "Epoch 7: Train Loss=4.578653288295832 Validation Loss=4.261102696259816\n"
          ]
        },
        {
          "name": "stderr",
          "output_type": "stream",
          "text": [
            "100%|██████████| 24/24 [00:00<00:00, 183.21it/s]\n"
          ]
        },
        {
          "name": "stdout",
          "output_type": "stream",
          "text": [
            "Epoch 8: Train Loss=4.4959888835918145 Validation Loss=4.283772150675456\n"
          ]
        },
        {
          "name": "stderr",
          "output_type": "stream",
          "text": [
            "100%|██████████| 24/24 [00:00<00:00, 190.48it/s]\n"
          ]
        },
        {
          "name": "stdout",
          "output_type": "stream",
          "text": [
            "Epoch 9: Train Loss=4.507655572478023 Validation Loss=4.148170133431752\n"
          ]
        },
        {
          "name": "stderr",
          "output_type": "stream",
          "text": [
            "100%|██████████| 24/24 [00:00<00:00, 171.44it/s]\n"
          ]
        },
        {
          "name": "stdout",
          "output_type": "stream",
          "text": [
            "Epoch 10: Train Loss=4.427293258888194 Validation Loss=4.461428960164388\n"
          ]
        },
        {
          "name": "stderr",
          "output_type": "stream",
          "text": [
            "100%|██████████| 24/24 [00:00<00:00, 182.49it/s]\n"
          ]
        },
        {
          "name": "stdout",
          "output_type": "stream",
          "text": [
            "Epoch 11: Train Loss=4.442293383925436 Validation Loss=4.01798935731252\n"
          ]
        },
        {
          "name": "stderr",
          "output_type": "stream",
          "text": [
            "100%|██████████| 24/24 [00:00<00:00, 182.99it/s]\n"
          ]
        },
        {
          "name": "stdout",
          "output_type": "stream",
          "text": [
            "Epoch 12: Train Loss=4.327487333708723 Validation Loss=4.0819235642751055\n"
          ]
        },
        {
          "name": "stderr",
          "output_type": "stream",
          "text": [
            "100%|██████████| 24/24 [00:00<00:00, 188.98it/s]\n"
          ]
        },
        {
          "name": "stdout",
          "output_type": "stream",
          "text": [
            "Epoch 13: Train Loss=4.311218891876179 Validation Loss=4.248249292373657\n"
          ]
        },
        {
          "name": "stderr",
          "output_type": "stream",
          "text": [
            "100%|██████████| 24/24 [00:00<00:00, 173.81it/s]\n"
          ]
        },
        {
          "name": "stdout",
          "output_type": "stream",
          "text": [
            "Epoch 14: Train Loss=4.410241530766803 Validation Loss=3.976093610127767\n"
          ]
        },
        {
          "name": "stderr",
          "output_type": "stream",
          "text": [
            "100%|██████████| 24/24 [00:00<00:00, 189.89it/s]\n"
          ]
        },
        {
          "name": "stdout",
          "output_type": "stream",
          "text": [
            "Epoch 15: Train Loss=4.236488046183798 Validation Loss=3.944474776585897\n"
          ]
        },
        {
          "name": "stderr",
          "output_type": "stream",
          "text": [
            "100%|██████████| 24/24 [00:00<00:00, 193.55it/s]\n"
          ]
        },
        {
          "name": "stdout",
          "output_type": "stream",
          "text": [
            "Epoch 16: Train Loss=4.203515715977161 Validation Loss=3.834628780682882\n"
          ]
        },
        {
          "name": "stderr",
          "output_type": "stream",
          "text": [
            "100%|██████████| 24/24 [00:00<00:00, 196.04it/s]\n"
          ]
        },
        {
          "name": "stdout",
          "output_type": "stream",
          "text": [
            "Epoch 17: Train Loss=4.159694883044421 Validation Loss=3.793453335762024\n"
          ]
        },
        {
          "name": "stderr",
          "output_type": "stream",
          "text": [
            "100%|██████████| 24/24 [00:00<00:00, 183.21it/s]\n"
          ]
        },
        {
          "name": "stdout",
          "output_type": "stream",
          "text": [
            "Epoch 18: Train Loss=4.071118115253575 Validation Loss=3.7153520584106445\n"
          ]
        },
        {
          "name": "stderr",
          "output_type": "stream",
          "text": [
            "100%|██████████| 24/24 [00:00<00:00, 177.78it/s]\n"
          ]
        },
        {
          "name": "stdout",
          "output_type": "stream",
          "text": [
            "Epoch 19: Train Loss=4.013420134735907 Validation Loss=3.6526599327723184\n"
          ]
        },
        {
          "name": "stderr",
          "output_type": "stream",
          "text": [
            "100%|██████████| 24/24 [00:00<00:00, 186.00it/s]\n"
          ]
        },
        {
          "name": "stdout",
          "output_type": "stream",
          "text": [
            "Epoch 20: Train Loss=3.9541405551116005 Validation Loss=3.7077287435531616\n"
          ]
        },
        {
          "name": "stderr",
          "output_type": "stream",
          "text": [
            "100%|██████████| 24/24 [00:00<00:00, 186.05it/s]\n"
          ]
        },
        {
          "name": "stdout",
          "output_type": "stream",
          "text": [
            "Epoch 21: Train Loss=3.891747639048763 Validation Loss=3.531329651673635\n"
          ]
        },
        {
          "name": "stderr",
          "output_type": "stream",
          "text": [
            "100%|██████████| 24/24 [00:00<00:00, 179.11it/s]"
          ]
        },
        {
          "name": "stdout",
          "output_type": "stream",
          "text": [
            "Epoch 22: Train Loss=3.8707873492385225 Validation Loss=3.4972407519817352"
          ]
        },
        {
          "name": "stderr",
          "output_type": "stream",
          "text": [
            "\n"
          ]
        },
        {
          "name": "stdout",
          "output_type": "stream",
          "text": [
            "\n"
          ]
        },
        {
          "name": "stderr",
          "output_type": "stream",
          "text": [
            "100%|██████████| 24/24 [00:00<00:00, 184.62it/s]\n"
          ]
        },
        {
          "name": "stdout",
          "output_type": "stream",
          "text": [
            "Epoch 23: Train Loss=3.8337058361576055 Validation Loss=3.455119510491689\n"
          ]
        },
        {
          "name": "stderr",
          "output_type": "stream",
          "text": [
            "100%|██████████| 24/24 [00:00<00:00, 173.04it/s]\n"
          ]
        },
        {
          "name": "stdout",
          "output_type": "stream",
          "text": [
            "Epoch 24: Train Loss=3.769709335996898 Validation Loss=3.4511693517367044\n"
          ]
        },
        {
          "name": "stderr",
          "output_type": "stream",
          "text": [
            "100%|██████████| 24/24 [00:00<00:00, 177.78it/s]\n"
          ]
        },
        {
          "name": "stdout",
          "output_type": "stream",
          "text": [
            "Epoch 25: Train Loss=3.7430033976516044 Validation Loss=3.526020566622416\n"
          ]
        },
        {
          "name": "stderr",
          "output_type": "stream",
          "text": [
            "100%|██████████| 24/24 [00:00<00:00, 175.18it/s]"
          ]
        },
        {
          "name": "stdout",
          "output_type": "stream",
          "text": [
            "Epoch 26: Train Loss=3.7646752210734657 Validation Loss=3.327909141778946"
          ]
        },
        {
          "name": "stderr",
          "output_type": "stream",
          "text": [
            "\n"
          ]
        },
        {
          "name": "stdout",
          "output_type": "stream",
          "text": [
            "\n"
          ]
        },
        {
          "name": "stderr",
          "output_type": "stream",
          "text": [
            "100%|██████████| 24/24 [00:00<00:00, 158.94it/s]"
          ]
        },
        {
          "name": "stdout",
          "output_type": "stream",
          "text": [
            "Epoch 27: Train Loss=3.6471280936246053 Validation Loss=3.336812674999237\n"
          ]
        },
        {
          "name": "stderr",
          "output_type": "stream",
          "text": [
            "\n",
            "100%|██████████| 24/24 [00:00<00:00, 190.47it/s]\n"
          ]
        },
        {
          "name": "stdout",
          "output_type": "stream",
          "text": [
            "Epoch 28: Train Loss=3.628453065470875 Validation Loss=3.3918527166048684\n"
          ]
        },
        {
          "name": "stderr",
          "output_type": "stream",
          "text": [
            "100%|██████████| 24/24 [00:00<00:00, 171.43it/s]\n"
          ]
        },
        {
          "name": "stdout",
          "output_type": "stream",
          "text": [
            "Epoch 29: Train Loss=3.5603840371600466 Validation Loss=3.180689920981725\n"
          ]
        },
        {
          "name": "stderr",
          "output_type": "stream",
          "text": [
            "100%|██████████| 24/24 [00:00<00:00, 184.62it/s]\n"
          ]
        },
        {
          "name": "stdout",
          "output_type": "stream",
          "text": [
            "Epoch 30: Train Loss=3.489108483082022 Validation Loss=3.1994110445181527\n"
          ]
        },
        {
          "name": "stderr",
          "output_type": "stream",
          "text": [
            "100%|██████████| 24/24 [00:00<00:00, 180.45it/s]\n"
          ]
        },
        {
          "name": "stdout",
          "output_type": "stream",
          "text": [
            "Epoch 31: Train Loss=3.396305945188054 Validation Loss=3.1262601017951965\n"
          ]
        },
        {
          "name": "stderr",
          "output_type": "stream",
          "text": [
            "100%|██████████| 24/24 [00:00<00:00, 186.05it/s]\n"
          ]
        },
        {
          "name": "stdout",
          "output_type": "stream",
          "text": [
            "Epoch 32: Train Loss=3.332713898133497 Validation Loss=3.0280402104059854\n"
          ]
        },
        {
          "name": "stderr",
          "output_type": "stream",
          "text": [
            "100%|██████████| 24/24 [00:00<00:00, 172.66it/s]\n"
          ]
        },
        {
          "name": "stdout",
          "output_type": "stream",
          "text": [
            "Epoch 33: Train Loss=3.2189242316662963 Validation Loss=3.054180363814036\n"
          ]
        },
        {
          "name": "stderr",
          "output_type": "stream",
          "text": [
            "100%|██████████| 24/24 [00:00<00:00, 196.72it/s]\n"
          ]
        },
        {
          "name": "stdout",
          "output_type": "stream",
          "text": [
            "Epoch 34: Train Loss=3.192749354050307 Validation Loss=2.920280118783315\n"
          ]
        },
        {
          "name": "stderr",
          "output_type": "stream",
          "text": [
            "100%|██████████| 24/24 [00:00<00:00, 168.78it/s]\n"
          ]
        },
        {
          "name": "stdout",
          "output_type": "stream",
          "text": [
            "Epoch 35: Train Loss=3.139246169593837 Validation Loss=2.965324262777964\n"
          ]
        },
        {
          "name": "stderr",
          "output_type": "stream",
          "text": [
            "100%|██████████| 24/24 [00:00<00:00, 162.22it/s]"
          ]
        },
        {
          "name": "stdout",
          "output_type": "stream",
          "text": [
            "Epoch 36: Train Loss=3.068348181904476 Validation Loss=2.8258220553398132"
          ]
        },
        {
          "name": "stderr",
          "output_type": "stream",
          "text": [
            "\n"
          ]
        },
        {
          "name": "stdout",
          "output_type": "stream",
          "text": [
            "\n"
          ]
        },
        {
          "name": "stderr",
          "output_type": "stream",
          "text": [
            "100%|██████████| 24/24 [00:00<00:00, 181.82it/s]"
          ]
        },
        {
          "name": "stdout",
          "output_type": "stream",
          "text": [
            "Epoch 37: Train Loss=3.0171664461767143 Validation Loss=2.794514000415802\n"
          ]
        },
        {
          "name": "stderr",
          "output_type": "stream",
          "text": [
            "\n",
            "100%|██████████| 24/24 [00:00<00:00, 174.20it/s]"
          ]
        },
        {
          "name": "stdout",
          "output_type": "stream",
          "text": [
            "Epoch 38: Train Loss=2.924648873943734 Validation Loss=2.7199014921983085\n"
          ]
        },
        {
          "name": "stderr",
          "output_type": "stream",
          "text": [
            "\n",
            "100%|██████████| 24/24 [00:00<00:00, 178.54it/s]\n"
          ]
        },
        {
          "name": "stdout",
          "output_type": "stream",
          "text": [
            "Epoch 39: Train Loss=2.8102810975966626 Validation Loss=2.776929756005605\n"
          ]
        },
        {
          "name": "stderr",
          "output_type": "stream",
          "text": [
            "100%|██████████| 24/24 [00:00<00:00, 179.10it/s]\n"
          ]
        },
        {
          "name": "stdout",
          "output_type": "stream",
          "text": [
            "Epoch 40: Train Loss=2.7872493192431733 Validation Loss=2.6227877934773765\n"
          ]
        },
        {
          "name": "stderr",
          "output_type": "stream",
          "text": [
            "100%|██████████| 24/24 [00:00<00:00, 186.05it/s]\n"
          ]
        },
        {
          "name": "stdout",
          "output_type": "stream",
          "text": [
            "Epoch 41: Train Loss=2.714276497251778 Validation Loss=2.6084165573120117\n"
          ]
        },
        {
          "name": "stderr",
          "output_type": "stream",
          "text": [
            "100%|██████████| 24/24 [00:00<00:00, 182.92it/s]\n"
          ]
        },
        {
          "name": "stdout",
          "output_type": "stream",
          "text": [
            "Epoch 42: Train Loss=2.6868755198471654 Validation Loss=2.5479523340861\n"
          ]
        },
        {
          "name": "stderr",
          "output_type": "stream",
          "text": [
            "100%|██████████| 24/24 [00:00<00:00, 191.40it/s]\n"
          ]
        },
        {
          "name": "stdout",
          "output_type": "stream",
          "text": [
            "Epoch 43: Train Loss=2.5661942486007714 Validation Loss=2.580930769443512\n"
          ]
        },
        {
          "name": "stderr",
          "output_type": "stream",
          "text": [
            "100%|██████████| 24/24 [00:00<00:00, 171.29it/s]"
          ]
        },
        {
          "name": "stdout",
          "output_type": "stream",
          "text": [
            "Epoch 44: Train Loss=2.5484679967332204 Validation Loss=2.4778790374596915"
          ]
        },
        {
          "name": "stderr",
          "output_type": "stream",
          "text": [
            "\n"
          ]
        },
        {
          "name": "stdout",
          "output_type": "stream",
          "text": [
            "\n"
          ]
        },
        {
          "name": "stderr",
          "output_type": "stream",
          "text": [
            "100%|██████████| 24/24 [00:00<00:00, 163.26it/s]"
          ]
        },
        {
          "name": "stdout",
          "output_type": "stream",
          "text": [
            "Epoch 45: Train Loss=2.4986515890813883 Validation Loss=2.5603959560394287\n"
          ]
        },
        {
          "name": "stderr",
          "output_type": "stream",
          "text": [
            "\n",
            "100%|██████████| 24/24 [00:00<00:00, 177.78it/s]"
          ]
        },
        {
          "name": "stdout",
          "output_type": "stream",
          "text": [
            "Epoch 46: Train Loss=2.5551707829504253 Validation Loss=2.540749410788218\n"
          ]
        },
        {
          "name": "stderr",
          "output_type": "stream",
          "text": [
            "\n",
            "100%|██████████| 24/24 [00:00<00:00, 186.05it/s]\n"
          ]
        },
        {
          "name": "stdout",
          "output_type": "stream",
          "text": [
            "Epoch 47: Train Loss=2.4780072126350015 Validation Loss=2.7033168574174247\n"
          ]
        },
        {
          "name": "stderr",
          "output_type": "stream",
          "text": [
            "100%|██████████| 24/24 [00:00<00:00, 172.83it/s]"
          ]
        },
        {
          "name": "stdout",
          "output_type": "stream",
          "text": [
            "Epoch 48: Train Loss=2.506102100650309 Validation Loss=2.4459622701009116"
          ]
        },
        {
          "name": "stderr",
          "output_type": "stream",
          "text": [
            "\n"
          ]
        },
        {
          "name": "stdout",
          "output_type": "stream",
          "text": [
            "\n"
          ]
        },
        {
          "name": "stderr",
          "output_type": "stream",
          "text": [
            "100%|██████████| 24/24 [00:00<00:00, 187.50it/s]\n"
          ]
        },
        {
          "name": "stdout",
          "output_type": "stream",
          "text": [
            "Epoch 49: Train Loss=2.425567309709052 Validation Loss=2.48905419309934\n"
          ]
        },
        {
          "name": "stderr",
          "output_type": "stream",
          "text": [
            "100%|██████████| 24/24 [00:00<00:00, 188.98it/s]\n"
          ]
        },
        {
          "name": "stdout",
          "output_type": "stream",
          "text": [
            "Epoch 50: Train Loss=2.292437733902354 Validation Loss=2.407716612021128\n"
          ]
        },
        {
          "name": "stderr",
          "output_type": "stream",
          "text": [
            "100%|██████████| 24/24 [00:00<00:00, 181.18it/s]\n"
          ]
        },
        {
          "name": "stdout",
          "output_type": "stream",
          "text": [
            "Epoch 51: Train Loss=2.2806417421207583 Validation Loss=2.4147970179716745\n"
          ]
        },
        {
          "name": "stderr",
          "output_type": "stream",
          "text": [
            "100%|██████████| 24/24 [00:00<00:00, 181.82it/s]\n"
          ]
        },
        {
          "name": "stdout",
          "output_type": "stream",
          "text": [
            "Epoch 52: Train Loss=2.3342030722056237 Validation Loss=2.3719842632611594\n"
          ]
        },
        {
          "name": "stderr",
          "output_type": "stream",
          "text": [
            "100%|██████████| 24/24 [00:00<00:00, 191.34it/s]\n"
          ]
        },
        {
          "name": "stdout",
          "output_type": "stream",
          "text": [
            "Epoch 53: Train Loss=2.247564706033114 Validation Loss=2.263709247112274\n"
          ]
        },
        {
          "name": "stderr",
          "output_type": "stream",
          "text": [
            "100%|██████████| 24/24 [00:00<00:00, 192.00it/s]\n"
          ]
        },
        {
          "name": "stdout",
          "output_type": "stream",
          "text": [
            "Epoch 54: Train Loss=2.2052480492668702 Validation Loss=2.3484628399213157\n"
          ]
        },
        {
          "name": "stderr",
          "output_type": "stream",
          "text": [
            "100%|██████████| 24/24 [00:00<00:00, 192.00it/s]\n"
          ]
        },
        {
          "name": "stdout",
          "output_type": "stream",
          "text": [
            "Epoch 55: Train Loss=2.2532527368667945 Validation Loss=2.224321703116099\n"
          ]
        },
        {
          "name": "stderr",
          "output_type": "stream",
          "text": [
            "100%|██████████| 24/24 [00:00<00:00, 196.72it/s]\n"
          ]
        },
        {
          "name": "stdout",
          "output_type": "stream",
          "text": [
            "Epoch 56: Train Loss=2.197385814957334 Validation Loss=2.2871541182200112\n"
          ]
        },
        {
          "name": "stderr",
          "output_type": "stream",
          "text": [
            "100%|██████████| 24/24 [00:00<00:00, 196.42it/s]\n"
          ]
        },
        {
          "name": "stdout",
          "output_type": "stream",
          "text": [
            "Epoch 57: Train Loss=2.137483687333453 Validation Loss=2.1941464145978293\n"
          ]
        },
        {
          "name": "stderr",
          "output_type": "stream",
          "text": [
            "100%|██████████| 24/24 [00:00<00:00, 196.72it/s]\n"
          ]
        },
        {
          "name": "stdout",
          "output_type": "stream",
          "text": [
            "Epoch 58: Train Loss=2.0995656016440933 Validation Loss=2.151005278031031\n"
          ]
        },
        {
          "name": "stderr",
          "output_type": "stream",
          "text": [
            "100%|██████████| 24/24 [00:00<00:00, 200.00it/s]\n"
          ]
        },
        {
          "name": "stdout",
          "output_type": "stream",
          "text": [
            "Epoch 59: Train Loss=2.166242702814323 Validation Loss=2.1895422438780465\n"
          ]
        },
        {
          "name": "stderr",
          "output_type": "stream",
          "text": [
            "100%|██████████| 24/24 [00:00<00:00, 161.07it/s]\n"
          ]
        },
        {
          "name": "stdout",
          "output_type": "stream",
          "text": [
            "Epoch 60: Train Loss=2.069351488683471 Validation Loss=2.1324982047080994\n"
          ]
        },
        {
          "name": "stderr",
          "output_type": "stream",
          "text": [
            "100%|██████████| 24/24 [00:00<00:00, 152.08it/s]\n"
          ]
        },
        {
          "name": "stdout",
          "output_type": "stream",
          "text": [
            "Epoch 61: Train Loss=1.9749082572896386 Validation Loss=2.1339208583037057\n"
          ]
        },
        {
          "name": "stderr",
          "output_type": "stream",
          "text": [
            "100%|██████████| 24/24 [00:00<00:00, 172.35it/s]\n"
          ]
        },
        {
          "name": "stdout",
          "output_type": "stream",
          "text": [
            "Epoch 62: Train Loss=1.9994599829433657 Validation Loss=2.053694566090902\n"
          ]
        },
        {
          "name": "stderr",
          "output_type": "stream",
          "text": [
            "100%|██████████| 24/24 [00:00<00:00, 165.36it/s]\n"
          ]
        },
        {
          "name": "stdout",
          "output_type": "stream",
          "text": [
            "Epoch 63: Train Loss=2.0236084859003554 Validation Loss=2.207796881596247\n"
          ]
        },
        {
          "name": "stderr",
          "output_type": "stream",
          "text": [
            "100%|██████████| 24/24 [00:00<00:00, 167.83it/s]"
          ]
        },
        {
          "name": "stdout",
          "output_type": "stream",
          "text": [
            "Epoch 64: Train Loss=1.9726791994457027 Validation Loss=2.044764449199041"
          ]
        },
        {
          "name": "stderr",
          "output_type": "stream",
          "text": [
            "\n"
          ]
        },
        {
          "name": "stdout",
          "output_type": "stream",
          "text": [
            "\n"
          ]
        },
        {
          "name": "stderr",
          "output_type": "stream",
          "text": [
            "100%|██████████| 24/24 [00:00<00:00, 167.83it/s]"
          ]
        },
        {
          "name": "stdout",
          "output_type": "stream",
          "text": [
            "Epoch 65: Train Loss=1.91695285595409 Validation Loss=2.0114589234193168\n"
          ]
        },
        {
          "name": "stderr",
          "output_type": "stream",
          "text": [
            "\n",
            "100%|██████████| 24/24 [00:00<00:00, 181.82it/s]\n"
          ]
        },
        {
          "name": "stdout",
          "output_type": "stream",
          "text": [
            "Epoch 66: Train Loss=1.9482292461548216 Validation Loss=2.0192570785681405\n"
          ]
        },
        {
          "name": "stderr",
          "output_type": "stream",
          "text": [
            "100%|██████████| 24/24 [00:00<00:00, 172.58it/s]"
          ]
        },
        {
          "name": "stdout",
          "output_type": "stream",
          "text": [
            "Epoch 67: Train Loss=1.9027666024373389 Validation Loss=2.455569565296173"
          ]
        },
        {
          "name": "stderr",
          "output_type": "stream",
          "text": [
            "\n"
          ]
        },
        {
          "name": "stdout",
          "output_type": "stream",
          "text": [
            "\n"
          ]
        },
        {
          "name": "stderr",
          "output_type": "stream",
          "text": [
            "100%|██████████| 24/24 [00:00<00:00, 183.21it/s]"
          ]
        },
        {
          "name": "stdout",
          "output_type": "stream",
          "text": [
            "Epoch 68: Train Loss=2.0367292023864323 Validation Loss=2.294388920068741\n"
          ]
        },
        {
          "name": "stderr",
          "output_type": "stream",
          "text": [
            "\n",
            "100%|██████████| 24/24 [00:00<00:00, 167.83it/s]"
          ]
        },
        {
          "name": "stdout",
          "output_type": "stream",
          "text": [
            "Epoch 69: Train Loss=1.972796469335618 Validation Loss=2.018557141224543\n"
          ]
        },
        {
          "name": "stderr",
          "output_type": "stream",
          "text": [
            "\n",
            "100%|██████████| 24/24 [00:00<00:00, 179.10it/s]\n"
          ]
        },
        {
          "name": "stdout",
          "output_type": "stream",
          "text": [
            "Epoch 70: Train Loss=2.0138367004446214 Validation Loss=1.9535355071226757\n"
          ]
        },
        {
          "name": "stderr",
          "output_type": "stream",
          "text": [
            "100%|██████████| 24/24 [00:00<00:00, 184.62it/s]\n"
          ]
        },
        {
          "name": "stdout",
          "output_type": "stream",
          "text": [
            "Epoch 71: Train Loss=1.8734462194444903 Validation Loss=1.9196451902389526\n"
          ]
        },
        {
          "name": "stderr",
          "output_type": "stream",
          "text": [
            "100%|██████████| 24/24 [00:00<00:00, 165.31it/s]"
          ]
        },
        {
          "name": "stdout",
          "output_type": "stream",
          "text": [
            "Epoch 72: Train Loss=1.843246263484169 Validation Loss=1.9322410623232524\n"
          ]
        },
        {
          "name": "stderr",
          "output_type": "stream",
          "text": [
            "\n",
            "100%|██████████| 24/24 [00:00<00:00, 165.52it/s]"
          ]
        },
        {
          "name": "stdout",
          "output_type": "stream",
          "text": [
            "Epoch 73: Train Loss=1.808359729011026 Validation Loss=2.0669468144575753"
          ]
        },
        {
          "name": "stderr",
          "output_type": "stream",
          "text": [
            "\n"
          ]
        },
        {
          "name": "stdout",
          "output_type": "stream",
          "text": [
            "\n"
          ]
        },
        {
          "name": "stderr",
          "output_type": "stream",
          "text": [
            "100%|██████████| 24/24 [00:00<00:00, 151.82it/s]"
          ]
        },
        {
          "name": "stdout",
          "output_type": "stream",
          "text": [
            "Epoch 74: Train Loss=1.8280581155899156 Validation Loss=1.8848929007848103\n"
          ]
        },
        {
          "name": "stderr",
          "output_type": "stream",
          "text": [
            "\n",
            "100%|██████████| 24/24 [00:00<00:00, 167.83it/s]"
          ]
        },
        {
          "name": "stdout",
          "output_type": "stream",
          "text": [
            "Epoch 75: Train Loss=1.8330875433132174 Validation Loss=1.8798505862553914"
          ]
        },
        {
          "name": "stderr",
          "output_type": "stream",
          "text": [
            "\n"
          ]
        },
        {
          "name": "stdout",
          "output_type": "stream",
          "text": [
            "\n"
          ]
        },
        {
          "name": "stderr",
          "output_type": "stream",
          "text": [
            "100%|██████████| 24/24 [00:00<00:00, 167.83it/s]\n"
          ]
        },
        {
          "name": "stdout",
          "output_type": "stream",
          "text": [
            "Epoch 76: Train Loss=1.8056191743937016 Validation Loss=1.9284848769505818\n"
          ]
        },
        {
          "name": "stderr",
          "output_type": "stream",
          "text": [
            "100%|██████████| 24/24 [00:00<00:00, 167.83it/s]"
          ]
        },
        {
          "name": "stdout",
          "output_type": "stream",
          "text": [
            "Epoch 77: Train Loss=1.7652869793339192 Validation Loss=1.8564228117465973"
          ]
        },
        {
          "name": "stderr",
          "output_type": "stream",
          "text": [
            "\n"
          ]
        },
        {
          "name": "stdout",
          "output_type": "stream",
          "text": [
            "\n"
          ]
        },
        {
          "name": "stderr",
          "output_type": "stream",
          "text": [
            "100%|██████████| 24/24 [00:00<00:00, 173.81it/s]"
          ]
        },
        {
          "name": "stdout",
          "output_type": "stream",
          "text": [
            "Epoch 78: Train Loss=1.7129764431572774 Validation Loss=1.864092359940211\n"
          ]
        },
        {
          "name": "stderr",
          "output_type": "stream",
          "text": [
            "\n",
            "100%|██████████| 24/24 [00:00<00:00, 188.98it/s]"
          ]
        },
        {
          "name": "stdout",
          "output_type": "stream",
          "text": [
            "Epoch 79: Train Loss=1.6929657901072535 Validation Loss=1.8507148027420044\n"
          ]
        },
        {
          "name": "stderr",
          "output_type": "stream",
          "text": [
            "\n",
            "100%|██████████| 24/24 [00:00<00:00, 176.47it/s]\n"
          ]
        },
        {
          "name": "stdout",
          "output_type": "stream",
          "text": [
            "Epoch 80: Train Loss=1.7729882467320561 Validation Loss=1.7916343410809834\n"
          ]
        },
        {
          "name": "stderr",
          "output_type": "stream",
          "text": [
            "100%|██████████| 24/24 [00:00<00:00, 184.62it/s]\n"
          ]
        },
        {
          "name": "stdout",
          "output_type": "stream",
          "text": [
            "Epoch 81: Train Loss=1.8544549191516762 Validation Loss=1.784356524546941\n"
          ]
        },
        {
          "name": "stderr",
          "output_type": "stream",
          "text": [
            "100%|██████████| 24/24 [00:00<00:00, 179.10it/s]\n"
          ]
        },
        {
          "name": "stdout",
          "output_type": "stream",
          "text": [
            "Epoch 82: Train Loss=1.6447351096592104 Validation Loss=1.7718084454536438\n"
          ]
        },
        {
          "name": "stderr",
          "output_type": "stream",
          "text": [
            "100%|██████████| 24/24 [00:00<00:00, 158.49it/s]"
          ]
        },
        {
          "name": "stdout",
          "output_type": "stream",
          "text": [
            "Epoch 83: Train Loss=1.627486296488683 Validation Loss=1.8692071040471394"
          ]
        },
        {
          "name": "stderr",
          "output_type": "stream",
          "text": [
            "\n"
          ]
        },
        {
          "name": "stdout",
          "output_type": "stream",
          "text": [
            "\n"
          ]
        },
        {
          "name": "stderr",
          "output_type": "stream",
          "text": [
            "100%|██████████| 24/24 [00:00<00:00, 167.83it/s]"
          ]
        },
        {
          "name": "stdout",
          "output_type": "stream",
          "text": [
            "Epoch 84: Train Loss=1.716342417233265 Validation Loss=1.7572216788927715\n"
          ]
        },
        {
          "name": "stderr",
          "output_type": "stream",
          "text": [
            "\n",
            "100%|██████████| 24/24 [00:00<00:00, 156.64it/s]"
          ]
        },
        {
          "name": "stdout",
          "output_type": "stream",
          "text": [
            "Epoch 85: Train Loss=1.6250070518848414 Validation Loss=1.870533953110377\n"
          ]
        },
        {
          "name": "stderr",
          "output_type": "stream",
          "text": [
            "\n",
            "100%|██████████| 24/24 [00:00<00:00, 166.02it/s]"
          ]
        },
        {
          "name": "stdout",
          "output_type": "stream",
          "text": [
            "Epoch 86: Train Loss=1.693098153449583 Validation Loss=1.844837745030721"
          ]
        },
        {
          "name": "stderr",
          "output_type": "stream",
          "text": [
            "\n"
          ]
        },
        {
          "name": "stdout",
          "output_type": "stream",
          "text": [
            "\n"
          ]
        },
        {
          "name": "stderr",
          "output_type": "stream",
          "text": [
            "100%|██████████| 24/24 [00:00<00:00, 163.27it/s]"
          ]
        },
        {
          "name": "stdout",
          "output_type": "stream",
          "text": [
            "Epoch 87: Train Loss=1.6188331455728033 Validation Loss=1.7936292986075084\n"
          ]
        },
        {
          "name": "stderr",
          "output_type": "stream",
          "text": [
            "\n",
            "100%|██████████| 24/24 [00:00<00:00, 166.66it/s]"
          ]
        },
        {
          "name": "stdout",
          "output_type": "stream",
          "text": [
            "Epoch 88: Train Loss=1.7523075028042854 Validation Loss=1.757260948419571\n"
          ]
        },
        {
          "name": "stderr",
          "output_type": "stream",
          "text": [
            "\n",
            "100%|██████████| 24/24 [00:00<00:00, 170.21it/s]"
          ]
        },
        {
          "name": "stdout",
          "output_type": "stream",
          "text": [
            "Epoch 89: Train Loss=1.7106747241640292 Validation Loss=1.788236012061437"
          ]
        },
        {
          "name": "stderr",
          "output_type": "stream",
          "text": [
            "\n"
          ]
        },
        {
          "name": "stdout",
          "output_type": "stream",
          "text": [
            "\n"
          ]
        },
        {
          "name": "stderr",
          "output_type": "stream",
          "text": [
            "100%|██████████| 24/24 [00:00<00:00, 142.01it/s]\n"
          ]
        },
        {
          "name": "stdout",
          "output_type": "stream",
          "text": [
            "Epoch 90: Train Loss=1.7169399543430417 Validation Loss=1.7145826915899913\n"
          ]
        },
        {
          "name": "stderr",
          "output_type": "stream",
          "text": [
            "100%|██████████| 24/24 [00:00<00:00, 173.91it/s]\n"
          ]
        },
        {
          "name": "stdout",
          "output_type": "stream",
          "text": [
            "Epoch 91: Train Loss=1.755269111377605 Validation Loss=1.7776617308457692\n"
          ]
        },
        {
          "name": "stderr",
          "output_type": "stream",
          "text": [
            "100%|██████████| 24/24 [00:00<00:00, 171.43it/s]"
          ]
        },
        {
          "name": "stdout",
          "output_type": "stream",
          "text": [
            "Epoch 92: Train Loss=1.6091911520056676 Validation Loss=1.6591550707817078"
          ]
        },
        {
          "name": "stderr",
          "output_type": "stream",
          "text": [
            "\n"
          ]
        },
        {
          "name": "stdout",
          "output_type": "stream",
          "text": [
            "\n"
          ]
        },
        {
          "name": "stderr",
          "output_type": "stream",
          "text": [
            "100%|██████████| 24/24 [00:00<00:00, 172.66it/s]\n"
          ]
        },
        {
          "name": "stdout",
          "output_type": "stream",
          "text": [
            "Epoch 93: Train Loss=1.6068087084653175 Validation Loss=1.7767922828594844\n"
          ]
        },
        {
          "name": "stderr",
          "output_type": "stream",
          "text": [
            "100%|██████████| 24/24 [00:00<00:00, 153.62it/s]\n"
          ]
        },
        {
          "name": "stdout",
          "output_type": "stream",
          "text": [
            "Epoch 94: Train Loss=1.5551726340567162 Validation Loss=1.6577715973059337\n"
          ]
        },
        {
          "name": "stderr",
          "output_type": "stream",
          "text": [
            "100%|██████████| 24/24 [00:00<00:00, 158.94it/s]"
          ]
        },
        {
          "name": "stdout",
          "output_type": "stream",
          "text": [
            "Epoch 95: Train Loss=1.5270786687703393 Validation Loss=1.6639140745004017\n"
          ]
        },
        {
          "name": "stderr",
          "output_type": "stream",
          "text": [
            "\n",
            "100%|██████████| 24/24 [00:00<00:00, 165.52it/s]"
          ]
        },
        {
          "name": "stdout",
          "output_type": "stream",
          "text": [
            "Epoch 96: Train Loss=1.5203668144219928 Validation Loss=1.6608937283356984"
          ]
        },
        {
          "name": "stderr",
          "output_type": "stream",
          "text": [
            "\n"
          ]
        },
        {
          "name": "stdout",
          "output_type": "stream",
          "text": [
            "\n"
          ]
        },
        {
          "name": "stderr",
          "output_type": "stream",
          "text": [
            "100%|██████████| 24/24 [00:00<00:00, 160.00it/s]"
          ]
        },
        {
          "name": "stdout",
          "output_type": "stream",
          "text": [
            "Epoch 97: Train Loss=1.541190083932851 Validation Loss=1.7060559391975403"
          ]
        },
        {
          "name": "stderr",
          "output_type": "stream",
          "text": [
            "\n"
          ]
        },
        {
          "name": "stdout",
          "output_type": "stream",
          "text": [
            "\n"
          ]
        },
        {
          "name": "stderr",
          "output_type": "stream",
          "text": [
            "100%|██████████| 24/24 [00:00<00:00, 170.21it/s]"
          ]
        },
        {
          "name": "stdout",
          "output_type": "stream",
          "text": [
            "Epoch 98: Train Loss=1.6369503412028141 Validation Loss=1.6408361494541168\n"
          ]
        },
        {
          "name": "stderr",
          "output_type": "stream",
          "text": [
            "\n",
            "100%|██████████| 24/24 [00:00<00:00, 156.86it/s]"
          ]
        },
        {
          "name": "stdout",
          "output_type": "stream",
          "text": [
            "Epoch 99: Train Loss=1.6761791642895174 Validation Loss=1.6412564168373744"
          ]
        },
        {
          "name": "stderr",
          "output_type": "stream",
          "text": [
            "\n"
          ]
        },
        {
          "name": "stdout",
          "output_type": "stream",
          "text": [
            "\n"
          ]
        },
        {
          "data": {
            "image/png": "[encoded data removed]",
            "text/plain": [
              "<Figure size 800x500 with 2 Axes>"
            ]
          },
          "metadata": {},
          "output_type": "display_data"
        }
      ],
      "source": [
        "from rdkit.Chem import inchi\n",
        "num_train = 2*len(graph_dataset)//3\n",
        "\n",
        "train_dataset_tox = graph_dataset[:num_train]\n",
        "test_dataset_tox = graph_dataset[num_train:]\n",
        "\n",
        "# FIX ME: Instantiate the GNN model implemented above with 9 input channels, 1 output channel\n",
        "model = GNN(in_channels=9,out_channels=1)\n",
        "model.to(device)\n",
        "\n",
        "# FIX ME: Train using train_nn method implemented above with the molecules dataset, learning rate 5e-4, MSE loss and for 100 epochs\n",
        "gnn_molecule_results = train_nn(model=model,train_dataset=train_dataset_tox,test_dataset=test_dataset_tox,lr=5e-4,criterion=nn.MSELoss(),num_epochs=100)\n",
        "\n",
        "%matplotlib inline\n",
        "learning_curve(gnn_molecule_results)"
      ]
    }
  ],
  "metadata": {
    "colab": {
      "provenance": []
    },
    "kernelspec": {
      "display_name": "dl_psets",
      "language": "python",
      "name": "python3"
    },
    "language_info": {
      "codemirror_mode": {
        "name": "ipython",
        "version": 3
      },
      "file_extension": ".py",
      "mimetype": "text/x-python",
      "name": "python",
      "nbconvert_exporter": "python",
      "pygments_lexer": "ipython3",
      "version": "3.9.19"
    }
  },
  "nbformat": 4,
  "nbformat_minor": 0
}
