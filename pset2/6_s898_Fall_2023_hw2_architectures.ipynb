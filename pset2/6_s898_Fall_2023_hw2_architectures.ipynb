{
  "cells": [
    {
      "cell_type": "markdown",
      "metadata": {
        "id": "Mp7RKvwbwbpa"
      },
      "source": [
        "**NOTE:** For all questions in this notebook, include your answers in the write pdf submission. Do **not** submit the colab.\n",
        "\n",
        "# Homework 2\n",
        "\n",
        "We will use the CIFAR-100 in this notebook, which has **100** classes. Unlike homework 1, we will instead use CNN models to investigate some interesting aspects of training deep models. Moreover, we will use standard PyTorch `nn.Module`s and `optim.Optimizer`s.\n",
        "\n",
        "<h2>CIFAR-100</h2>\n",
        "\n",
        "CIFAR-100  is a image classification dataset.\n",
        "+ Each data sample is an RGB $32\\times32$ real image. A raw loaded image $\\in \\mathbb{R}^{3 \\times 32 \\times 32}$.\n",
        "+ Each image is associated with a label $\\in \\{0,1,2,\\dots, 99\\}$.\n",
        "\n",
        "\n",
        "Our goal is to train a neural network classifier that takes such $3\\times32\\times32$ images and predict a label $\\in \\{0, 1, 2, \\dots, 99\\}$."
      ]
    },
    {
      "cell_type": "code",
      "execution_count": null,
      "metadata": {
        "id": "5MEnmRQuzLFj"
      },
      "outputs": [],
      "source": [
        "# install dependencies\n",
        "\n",
        "!pip install torch torchvision"
      ]
    },
    {
      "cell_type": "markdown",
      "metadata": {
        "id": "alPW6hlwE71a"
      },
      "source": [
        "You should run on GPU-enabled colab server (should be default for this notebook)."
      ]
    },
    {
      "cell_type": "code",
      "execution_count": 2,
      "metadata": {
        "id": "OYaubOb0E6u7"
      },
      "outputs": [
        {
          "name": "stderr",
          "output_type": "stream",
          "text": [
            "c:\\Users\\moumo\\anaconda3\\envs\\dl_psets\\lib\\site-packages\\tqdm\\auto.py:21: TqdmWarning: IProgress not found. Please update jupyter and ipywidgets. See https://ipywidgets.readthedocs.io/en/stable/user_install.html\n",
            "  from .autonotebook import tqdm as notebook_tqdm\n"
          ]
        }
      ],
      "source": [
        "%matplotlib inline\n",
        "\n",
        "from typing import *\n",
        "\n",
        "import numpy as np\n",
        "import matplotlib.pyplot as plt\n",
        "import seaborn as sns\n",
        "import dataclasses\n",
        "from tqdm.auto import tqdm\n",
        "\n",
        "import torchvision\n",
        "from PIL import Image\n",
        "\n",
        "import torch\n",
        "import torch.nn as nn\n",
        "import torch.nn.functional as F\n",
        "from torchvision.utils import make_grid\n",
        "assert torch.cuda.is_available(), \"Should use GPU-enabled colab\"\n",
        "\n",
        "device = torch.device('cuda:0')  # we will train with CUDA!"
      ]
    },
    {
      "cell_type": "markdown",
      "metadata": {
        "id": "u9zPaxSdbCjL"
      },
      "source": [
        "# Dataset\n",
        "\n",
        "Let's reuse the homework 1 augmented dataset code, but now modified to work on **CIFAR-100**. Code is hidden in the cell below, but make sure to still run it."
      ]
    },
    {
      "cell_type": "code",
      "execution_count": 3,
      "metadata": {
        "id": "uQIC0l06bCRt"
      },
      "outputs": [
        {
          "name": "stdout",
          "output_type": "stream",
          "text": [
            "Downloading https://www.cs.toronto.edu/~kriz/cifar-100-python.tar.gz to ./data\\cifar-100-python.tar.gz\n"
          ]
        },
        {
          "name": "stderr",
          "output_type": "stream",
          "text": [
            "100%|██████████| 169001437/169001437 [00:09<00:00, 17677992.32it/s]\n"
          ]
        },
        {
          "name": "stdout",
          "output_type": "stream",
          "text": [
            "Extracting ./data\\cifar-100-python.tar.gz to ./data\n",
            "Files already downloaded and verified\n",
            "Training set size: 50000\n",
            "Validation set size: 10000\n",
            "CIFAR-100 classes: ['apple', 'aquarium_fish', 'baby', 'bear', 'beaver', 'bed', 'bee', 'beetle', 'bicycle', 'bottle', 'bowl', 'boy', 'bridge', 'bus', 'butterfly', 'camel', 'can', 'castle', 'caterpillar', 'cattle', 'chair', 'chimpanzee', 'clock', 'cloud', 'cockroach', 'couch', 'crab', 'crocodile', 'cup', 'dinosaur', 'dolphin', 'elephant', 'flatfish', 'forest', 'fox', 'girl', 'hamster', 'house', 'kangaroo', 'keyboard', 'lamp', 'lawn_mower', 'leopard', 'lion', 'lizard', 'lobster', 'man', 'maple_tree', 'motorcycle', 'mountain', 'mouse', 'mushroom', 'oak_tree', 'orange', 'orchid', 'otter', 'palm_tree', 'pear', 'pickup_truck', 'pine_tree', 'plain', 'plate', 'poppy', 'porcupine', 'possum', 'rabbit', 'raccoon', 'ray', 'road', 'rocket', 'rose', 'sea', 'seal', 'shark', 'shrew', 'skunk', 'skyscraper', 'snail', 'snake', 'spider', 'squirrel', 'streetcar', 'sunflower', 'sweet_pepper', 'table', 'tank', 'telephone', 'television', 'tiger', 'tractor', 'train', 'trout', 'tulip', 'turtle', 'wardrobe', 'whale', 'willow_tree', 'wolf', 'woman', 'worm']\n"
          ]
        },
        {
          "data": {
            "image/png": "[encoded data removed]",
            "text/plain": [
              "<Figure size 640x480 with 1 Axes>"
            ]
          },
          "metadata": {},
          "output_type": "display_data"
        }
      ],
      "source": [
        "#@title\n",
        "%matplotlib inline\n",
        "\n",
        "import torchvision\n",
        "import numpy as np\n",
        "import matplotlib.pyplot as plt\n",
        "from PIL import Image\n",
        "\n",
        "\n",
        "def get_datasets(train_transforms=(), val_transforms=()):\n",
        "    r\"\"\"\n",
        "    Returns the CIFAR-100 training and validation datasets with corresponding\n",
        "    transforms.\n",
        "\n",
        "    `*_transforms` represent optional transformations, e.g., conversion to\n",
        "    PyTorch tensors, preprocessing, etc.\n",
        "    \"\"\"\n",
        "    train_set = torchvision.datasets.CIFAR100(\n",
        "        './data', train=True, download=True,\n",
        "        transform=torchvision.transforms.Compose(train_transforms))\n",
        "    val_set = torchvision.datasets.CIFAR100(\n",
        "        './data', train=False, download=True,\n",
        "        transform=torchvision.transforms.Compose(val_transforms))\n",
        "    return train_set, val_set\n",
        "\n",
        "\n",
        "cifar100_mean = torch.as_tensor([0.5071, 0.4865, 0.4409])\n",
        "cifar100_std = torch.as_tensor([0.2673, 0.2564, 0.2762])\n",
        "\n",
        "train_transforms = [\n",
        "    torchvision.transforms.RandomCrop(32, padding=3, padding_mode='reflect'),\n",
        "    torchvision.transforms.RandomHorizontalFlip(p=0.5),\n",
        "    torchvision.transforms.ToTensor(),\n",
        "    torchvision.transforms.Normalize(mean=cifar100_mean, std=cifar100_std),\n",
        "]\n",
        "\n",
        "val_transforms = [\n",
        "    torchvision.transforms.ToTensor(),\n",
        "    torchvision.transforms.Normalize(mean=cifar100_mean, std=cifar100_std),\n",
        "]\n",
        "\n",
        "train_set, val_set = get_datasets(train_transforms, val_transforms)\n",
        "\n",
        "print(f\"Training set size: {len(train_set)}\")\n",
        "print(f\"Validation set size: {len(val_set)}\")\n",
        "\n",
        "class_names = train_set.classes\n",
        "print(f'CIFAR-100 classes: {class_names}')\n",
        "\n",
        "def visualize_tensor_data(data: torch.Tensor, label: int):\n",
        "    # Data is a tensor of shape [C, W, H]  (C is the channel dimension, 3 for RGB)\n",
        "    # Put channel at last\n",
        "    data = data.permute(1, 2, 0)\n",
        "    # Un-normalize\n",
        "    data = data * cifar100_std + cifar100_mean\n",
        "\n",
        "    plt.imshow(data)\n",
        "    plt.axis('off')\n",
        "    plt.title(f'Label = {class_names[label]}')\n",
        "\n",
        "data, label = train_set[13]\n",
        "visualize_tensor_data(data, label)\n"
      ]
    },
    {
      "cell_type": "markdown",
      "metadata": {
        "id": "N6SOqXmUzLg9"
      },
      "source": [
        "## Network Definition\n",
        "\n",
        "**Question 5**: Implement the following function that creates the specified CNN networks. Read through the docstring and make sure that your implementation behaves as required. Afterwards, print the outputs of\n",
        "+ `make_cnn(100, 'tanh', num_conv_layers=5, num_fc_layers=4)`\n",
        "+ `make_cnn(3, 'none', num_conv_layers=3, num_fc_layers=2)`\n",
        "\n",
        "Add both your implementation and outputs to the writeup.\n",
        "\n",
        "---\n",
        "\n",
        "Links you may find useful:\n",
        "+ `none` activation: https://pytorch.org/docs/stable/generated/torch.nn.Identity.html?highlight=identity#torch.nn.Identity\n",
        "+ Chaining layers: https://pytorch.org/docs/stable/generated/torch.nn.Sequential.html?highlight=sequential#torch.nn.Sequential\n",
        "+ Reshaping image-like tensors to vectors: https://pytorch.org/docs/stable/generated/torch.nn.Flatten.html?highlight=flatten#torch.nn.Flatten\n",
        "\n",
        "(You are not required to use these classes)"
      ]
    },
    {
      "cell_type": "code",
      "execution_count": 4,
      "metadata": {
        "id": "PKk9djqb6Fc0"
      },
      "outputs": [],
      "source": [
        "def make_mlp(\n",
        "    num_inputs: int, num_outputs: int, activation: str, hidden_sizes: int = [128]\n",
        ") -> nn.Module:\n",
        "\n",
        "\n",
        "    if activation == \"relu\":\n",
        "\n",
        "        act_cls = nn.ReLU\n",
        "\n",
        "    elif activation == \"tanh\":\n",
        "\n",
        "        act_cls = nn.Tanh\n",
        "\n",
        "    elif activation == \"none\":\n",
        "\n",
        "        act_cls = nn.Identity\n",
        "    else:\n",
        "\n",
        "\n",
        "        raise ValueError(f\"Unexpected activation={repr(activation)}\")\n",
        "\n",
        "\n",
        "    net = [nn.Flatten(), nn.Linear(num_inputs, hidden_sizes[0]), act_cls()]\n",
        "\n",
        "\n",
        "    for i in range(1, len(hidden_sizes)):\n",
        "\n",
        "        net.extend([nn.Linear(hidden_sizes[i - 1], hidden_sizes[i]), act_cls()])\n",
        "\n",
        "    net.extend([nn.Linear(hidden_sizes[-1], num_outputs)])\n",
        "\n",
        "\n",
        "    return nn.Sequential(*net)"
      ]
    },
    {
      "cell_type": "code",
      "execution_count": 8,
      "metadata": {
        "id": "nPEYe7bbwbpd"
      },
      "outputs": [],
      "source": [
        "def make_cnn(\n",
        "    num_outputs: int, activation: str, num_conv_layers: int = 4, num_fc_layers: int = 2\n",
        ") -> nn.Module:\n",
        "    r\"\"\"\n",
        "\n",
        "\n",
        "\n",
        "\n",
        "\n",
        "    Returns a PyTorch module representing a CNN network that takes in image-like input with shape [3, 32, 32].\n",
        "\n",
        "\n",
        "\n",
        "\n",
        "\n",
        "    Args:\n",
        "\n",
        "\n",
        "\n",
        "\n",
        "\n",
        "        num_outputs (int): size of the final output layer. E.g., if the network is a classifier, this is usually #classes.\n",
        "\n",
        "\n",
        "\n",
        "\n",
        "\n",
        "        activation (str): activation functions between conv/linear layers. Supported choices are ['relu', 'tanh', 'none'] (always strings).\n",
        "\n",
        "\n",
        "\n",
        "\n",
        "\n",
        "            For 'none', no activation function is applied, and the previous conv/linear output is directly fed into the next conv/linear.\n",
        "\n",
        "\n",
        "\n",
        "\n",
        "\n",
        "        num_conv_layers (int): number of conv layers in CNN. This should be >= 3 and <= 5.\n",
        "\n",
        "\n",
        "\n",
        "\n",
        "\n",
        "            First conv layer should always use 5x5 kernels, mapping 3-channel data to 12-channel data, with **reflect** padding=2 and no striding.\n",
        "\n",
        "\n",
        "\n",
        "\n",
        "\n",
        "            Subsequent conv layers should always use 3x3 kernels, mapping to 64-channel data, with zeros (default) padding=1 and strides=2.\n",
        "\n",
        "\n",
        "\n",
        "\n",
        "\n",
        "        num_fc_layers (int): number of fc/linear layers after the convolutional part. This should be >= 2.\n",
        "\n",
        "\n",
        "\n",
        "\n",
        "            For all but the last fc layer, it should output 128-dimensional vectors.\n",
        "\n",
        "\n",
        "\n",
        "\n",
        "\n",
        "    Returns:\n",
        "\n",
        "\n",
        "\n",
        "\n",
        "\n",
        "        (nn.Module) The CNN network of desired tructure.\n",
        "\n",
        "\n",
        "\n",
        "\n",
        "\n",
        "    If an unexpected input is given, this will raise a ValueError. (You can assume that arguments are of correct types.)\n",
        "\n",
        "\n",
        "\n",
        "\n",
        "\n",
        "    \"\"\"\n",
        "\n",
        "\n",
        "    # FIXME\n",
        "\n",
        "    if activation == \"relu\":\n",
        "        act_cls = nn.ReLU\n",
        "    elif activation == \"tanh\":\n",
        "        act_cls = nn.Tanh\n",
        "    elif activation == \"none\":\n",
        "        act_cls = nn.Identity\n",
        "    else:\n",
        "        raise ValueError(f\"Unexpected activation={repr(activation)}\")\n",
        "    net = [\n",
        "        nn.Conv2d(\n",
        "            in_channels=3,\n",
        "            out_channels=12,\n",
        "            kernel_size=5,\n",
        "            padding_mode=\"reflect\",\n",
        "            padding=2,\n",
        "            stride=1,\n",
        "        ),\n",
        "        act_cls(),\n",
        "    ]\n",
        "    num_out = 12\n",
        "    for _ in range(num_conv_layers - 1):\n",
        "        net.extend(\n",
        "            [\n",
        "                nn.Conv2d(\n",
        "                    in_channels=num_out,\n",
        "                    out_channels=64,\n",
        "                    kernel_size=3,\n",
        "                    padding=1,\n",
        "                    stride=2,\n",
        "                ),\n",
        "                act_cls(),\n",
        "            ]\n",
        "        )\n",
        "        num_out = 64\n",
        "    net.extend([nn.Flatten()])\n",
        "    for _ in range(num_fc_layers - 1):\n",
        "        net.extend([nn.LazyLinear(out_features=128), act_cls()])\n",
        "    net.extend([nn.LazyLinear(out_features=num_outputs)])\n",
        "    return nn.Sequential(*net)"
      ]
    },
    {
      "cell_type": "code",
      "execution_count": 9,
      "metadata": {
        "id": "j6w5mydqZpN6"
      },
      "outputs": [
        {
          "name": "stdout",
          "output_type": "stream",
          "text": [
            "num_outputs=100, tanh, hidden_sizes=[128, 120]\n",
            "Sequential(\n",
            "  (0): Flatten(start_dim=1, end_dim=-1)\n",
            "  (1): Linear(in_features=10, out_features=128, bias=True)\n",
            "  (2): Tanh()\n",
            "  (3): Linear(in_features=128, out_features=120, bias=True)\n",
            "  (4): Tanh()\n",
            "  (5): Linear(in_features=120, out_features=100, bias=True)\n",
            ")\n",
            "\n",
            "num_outputs=100, tanh, num_conv_layers=5, num_fc_layers=4:\n",
            "Sequential(\n",
            "  (0): Conv2d(3, 12, kernel_size=(5, 5), stride=(1, 1), padding=(2, 2), padding_mode=reflect)\n",
            "  (1): Tanh()\n",
            "  (2): Conv2d(12, 64, kernel_size=(3, 3), stride=(2, 2), padding=(1, 1))\n",
            "  (3): Tanh()\n",
            "  (4): Conv2d(64, 64, kernel_size=(3, 3), stride=(2, 2), padding=(1, 1))\n",
            "  (5): Tanh()\n",
            "  (6): Conv2d(64, 64, kernel_size=(3, 3), stride=(2, 2), padding=(1, 1))\n",
            "  (7): Tanh()\n",
            "  (8): Conv2d(64, 64, kernel_size=(3, 3), stride=(2, 2), padding=(1, 1))\n",
            "  (9): Tanh()\n",
            "  (10): Flatten(start_dim=1, end_dim=-1)\n",
            "  (11): LazyLinear(in_features=0, out_features=128, bias=True)\n",
            "  (12): Tanh()\n",
            "  (13): LazyLinear(in_features=0, out_features=128, bias=True)\n",
            "  (14): Tanh()\n",
            "  (15): LazyLinear(in_features=0, out_features=128, bias=True)\n",
            "  (16): Tanh()\n",
            "  (17): LazyLinear(in_features=0, out_features=100, bias=True)\n",
            ")\n",
            "\n",
            "num_outputs=3, no activation, num_conv_layers=3, num_fc_layers=2:\n",
            "Sequential(\n",
            "  (0): Conv2d(3, 12, kernel_size=(5, 5), stride=(1, 1), padding=(2, 2), padding_mode=reflect)\n",
            "  (1): Identity()\n",
            "  (2): Conv2d(12, 64, kernel_size=(3, 3), stride=(2, 2), padding=(1, 1))\n",
            "  (3): Identity()\n",
            "  (4): Conv2d(64, 64, kernel_size=(3, 3), stride=(2, 2), padding=(1, 1))\n",
            "  (5): Identity()\n",
            "  (6): Flatten(start_dim=1, end_dim=-1)\n",
            "  (7): LazyLinear(in_features=0, out_features=128, bias=True)\n",
            "  (8): Identity()\n",
            "  (9): LazyLinear(in_features=0, out_features=3, bias=True)\n",
            ")\n"
          ]
        }
      ],
      "source": [
        "print(\"num_outputs=100, tanh, hidden_sizes=[128, 120]\")\n",
        "print(make_mlp(10, 100, \"tanh\", hidden_sizes=[128, 120]))\n",
        "print()\n",
        "print(\"num_outputs=100, tanh, num_conv_layers=5, num_fc_layers=4:\")\n",
        "print(make_cnn(100, \"tanh\", num_conv_layers=5, num_fc_layers=4))\n",
        "print()\n",
        "print(\"num_outputs=3, no activation, num_conv_layers=3, num_fc_layers=2:\")\n",
        "print(make_cnn(3, \"none\", num_conv_layers=3, num_fc_layers=2))"
      ]
    },
    {
      "cell_type": "markdown",
      "metadata": {
        "id": "oAW_ElprIlZd"
      },
      "source": [
        "## Training loop\n",
        "\n",
        "**Question 6**: Implement the following training and evaluate functions according to docstring. Complete the `FIXME`s in `train_epoch`, `evaluate`, and `train`. Attach your code to PDF.\n",
        "\n",
        "---\n",
        "\n",
        "Links you may find useful:\n",
        "+ Classification loss: https://pytorch.org/docs/stable/generated/torch.nn.functional.cross_entropy.html?highlight=cross_entropy#torch.nn.functional.cross_entropy\n",
        "+ Learning rate adjustment: https://pytorch.org/docs/stable/optim.html#how-to-adjust-learning-rate\n",
        "\n",
        "(You are not required to use these classes)"
      ]
    },
    {
      "cell_type": "code",
      "execution_count": 18,
      "metadata": {
        "id": "TyU21dzCIzGS"
      },
      "outputs": [],
      "source": [
        "def train_epoch(\n",
        "    epoch: int,\n",
        "    model: nn.Module,\n",
        "    train_loader: torch.utils.data.DataLoader,\n",
        "    optim: torch.optim.Optimizer,\n",
        "):\n",
        "    r\"\"\"\n",
        "\n",
        "\n",
        "\n",
        "\n",
        "\n",
        "\n",
        "\n",
        "    Trains `model` on `train_loader` for cross entropy loss for one epoch.\n",
        "\n",
        "\n",
        "\n",
        "\n",
        "\n",
        "\n",
        "\n",
        "    Args:\n",
        "\n",
        "\n",
        "\n",
        "\n",
        "\n",
        "\n",
        "        epoch (int): the current epoch number (i.e., number of epochs done before this one).\n",
        "\n",
        "\n",
        "\n",
        "\n",
        "\n",
        "\n",
        "        model (nn.Module): our network (created using `make_cnn`).\n",
        "\n",
        "\n",
        "\n",
        "\n",
        "\n",
        "\n",
        "        train_loader (DataLoader): a DataLoader that yields (batched_images, batched_target_class_indices) when iterated.\n",
        "\n",
        "\n",
        "\n",
        "\n",
        "\n",
        "\n",
        "        optim (Optimizer): optimizer object that is created with `model` parameters and should be used for updating `model` in this function.\n",
        "\n",
        "\n",
        "\n",
        "\n",
        "\n",
        "\n",
        "    Returns:\n",
        "\n",
        "\n",
        "\n",
        "\n",
        "\n",
        "\n",
        "        (List[float]) the losses computed at each iteration as a list of *Python* numbers.\n",
        "\n",
        "\n",
        "\n",
        "\n",
        "\n",
        "\n",
        "    NOTE:\n",
        "\n",
        "\n",
        "\n",
        "\n",
        "\n",
        "\n",
        "      + Remember to clear previously computed gradient at beginning of each iteration.\n",
        "\n",
        "\n",
        "\n",
        "\n",
        "\n",
        "\n",
        "      + Convert loss values to python floats (e.g., via `.item()`) before adding to `loss_values`.\n",
        "\n",
        "\n",
        "\n",
        "\n",
        "\n",
        "\n",
        "    \"\"\"\n",
        "\n",
        "    loss_values: List[float] = []\n",
        "\n",
        "    loss_fn = nn.CrossEntropyLoss()\n",
        "\n",
        "    for data, target in tqdm(train_loader, desc=f\"Training @ epoch {epoch}\"):\n",
        "        optim.zero_grad()\n",
        "        data = data.to(device)\n",
        "        target = target.to(device)\n",
        "        # make predictions\n",
        "        prediction = model(data)\n",
        "\n",
        "        # compute loss\n",
        "        loss = loss_fn(input=prediction, target=target)\n",
        "        loss_values.append(loss.item())\n",
        "        loss.backward()\n",
        "        optim.step()\n",
        "\n",
        "    return loss_values\n",
        "\n",
        "\n",
        "\n",
        "@dataclasses.dataclass\n",
        "class EvaluateResult:\n",
        "    r\"\"\"\n",
        "\n",
        "\n",
        "\n",
        "\n",
        "    A collection containing everything we need to know about the evaluate results.\n",
        "\n",
        "\n",
        "\n",
        "\n",
        "    See `evaluate` docstring for meanings of the members of this class\n",
        "\n",
        "\n",
        "\n",
        "\n",
        "    \"\"\"\n",
        "\n",
        "    acc: float  # overall accuracy\n",
        "\n",
        "    correct_predictions: torch.Tensor  # size |dataset|\n",
        "\n",
        "    confidence: torch.Tensor  # size |dataset|\n",
        "\n",
        "\n",
        "\n",
        "@torch.no_grad()\n",
        "def evaluate(model: nn.Module, loader: torch.utils.data.DataLoader) -> EvaluateResult:\n",
        "    r\"\"\"\n",
        "\n",
        "\n",
        "\n",
        "    Evaluate a classifier `model` on dataset contained in `loader`.\n",
        "\n",
        "\n",
        "\n",
        "    For each input, the predicted label is taken as one with highest probability in the distribution given by `model`.\n",
        "\n",
        "\n",
        "\n",
        "    In addition to compute overall accuracies, we also output\n",
        "\n",
        "\n",
        "\n",
        "        (1) a boolean Tensor with size |dataset|, showing whether each sample is correctly classified.\n",
        "\n",
        "\n",
        "\n",
        "        (2) a float32 Tensor with size |dataset|, showing the `model`'s assigned probability for its prediction, called *confidence*.\n",
        "\n",
        "\n",
        "\n",
        "    Args:\n",
        "\n",
        "\n",
        "\n",
        "        model (nn.Module): our network (created using `make_cnn`).\n",
        "\n",
        "\n",
        "\n",
        "        loader (DataLoader): a DataLoader that yields (batched_images, batched_target_class_indices) when iterated.\n",
        "\n",
        "\n",
        "\n",
        "    Returns:\n",
        "\n",
        "\n",
        "\n",
        "        (EvaluateResult) Containing overall accuracy, whether each sample is correctly classified, and confidence.\n",
        "\n",
        "\n",
        "\n",
        "            The tensors should be on **CPU**.\n",
        "\n",
        "\n",
        "\n",
        "    \"\"\"\n",
        "\n",
        "\n",
        "    # FIXME\n",
        "\n",
        "    correct_predictions = []\n",
        "    confidence = []\n",
        "    model.eval()\n",
        "    for data, target in loader:\n",
        "        data = data.to(device)\n",
        "        target = target.to(device)\n",
        "        output = model(data)\n",
        "        prob = torch.softmax(output, dim=1)\n",
        "        pred = torch.argmax(prob, dim=1)\n",
        "        conf = torch.max(prob, dim=1).values\n",
        "        correct_predictions.append((pred == target).detach().cpu())\n",
        "        confidence.append(conf.detach().cpu())\n",
        "\n",
        "    correct_predictions = torch.cat(correct_predictions).cpu()\n",
        "    confidence = torch.cat(confidence).cpu()\n",
        "    acc = correct_predictions.float().mean().item()\n",
        "    eval_result = EvaluateResult(acc, correct_predictions, confidence)\n",
        "    return eval_result\n",
        "\n",
        "\n",
        "\n",
        "@dataclasses.dataclass\n",
        "class TrainResult:\n",
        "    r\"\"\"\n",
        "\n",
        "\n",
        "    A collection containing everything we need to know about the training results\n",
        "\n",
        "\n",
        "    \"\"\"\n",
        "\n",
        "    num_epochs: int\n",
        "\n",
        "    # Training loss (saved at each iteration in `train_epoch`)\n",
        "    train_losses: List[float]\n",
        "\n",
        "    # The epochs where we perform evaluation\n",
        "    eval_epochs: List[int]\n",
        "\n",
        "    # Training accuracies, computed at each epoch in `eval_epochs`\n",
        "    train_accs: List[float]\n",
        "\n",
        "    # Validation accuracies, computed at each epoch in `eval_epochs`\n",
        "    val_accs: List[float]\n",
        "\n",
        "    # The last validation evaluation full result\n",
        "\n",
        "    final_val_eval_result: EvaluateResult = None\n",
        "\n",
        "\n",
        "\n",
        "def train(\n",
        "    model: nn.Module,\n",
        "    train_set,\n",
        "    val_set,\n",
        "    *,\n",
        "    num_epochs=60,\n",
        "    lr=0.003,\n",
        "    train_epoch_fn=train_epoch,\n",
        "    **kwargs,\n",
        "):\n",
        "    r\"\"\"\n",
        "\n",
        "\n",
        "    Train `model` on `train_set` for `num_epochs` epochs using **Adam** optimizer and `lr` learning rate\n",
        "\n",
        "\n",
        "    following a decay schedule by a factor of `0.3` at epochs `[5, 50]`.\n",
        "\n",
        "\n",
        "    Args:\n",
        "\n",
        "\n",
        "        model (nn.Module): our network (created using `make_cnn`).\n",
        "\n",
        "\n",
        "        train_set (Dataset): CIFAR-100 training dataset.\n",
        "\n",
        "\n",
        "        val_set (Dataset): CIFAR-100 validation dataset. Evaluated every *5* epochs and at the end of training.\n",
        "\n",
        "\n",
        "        num_epochs (int): number of total training epochs.\n",
        "\n",
        "\n",
        "        lr (float): initial learning rate.\n",
        "\n",
        "\n",
        "        train_epoch_fn (Callable): function that trains the model for a single epoch. This is `train_epoch`\n",
        "\n",
        "            usually, but we will use different choices in later questions.\n",
        "\n",
        "\n",
        "    Returns:\n",
        "\n",
        "\n",
        "        (TrainResult)\n",
        "\n",
        "\n",
        "    \"\"\"\n",
        "\n",
        "    # Data loaders\n",
        "\n",
        "    train_loader = torch.utils.data.DataLoader(\n",
        "        train_set, batch_size=512, shuffle=True\n",
        "    )  # Random order for training (\"[S]tochastic\" in SGD)\n",
        "\n",
        "    val_loader = torch.utils.data.DataLoader(val_set, batch_size=1024, shuffle=False)\n",
        "\n",
        "\n",
        "    # Our classifier\n",
        "\n",
        "    print(\"Model =\", model)\n",
        "\n",
        "\n",
        "    # Create optimizer and lr scheduler\n",
        "\n",
        "    # FIXME\n",
        "\n",
        "    optim = torch.optim.Adam(model.parameters(), lr=lr)\n",
        "    scheduler = torch.optim.lr_scheduler.MultiStepLR(\n",
        "        optim, milestones=[5, 50], gamma=0.3\n",
        "    )\n",
        "\n",
        "\n",
        "    result: TrainResult = TrainResult(\n",
        "        num_epochs, train_losses=[], eval_epochs=[], train_accs=[], val_accs=[]\n",
        "    )\n",
        "\n",
        "    last_eval_epoch = -float(\"inf\")\n",
        "\n",
        "\n",
        "    # Iterate through the entire training dataset `num_epochs` times\n",
        "\n",
        "    for epoch in range(num_epochs):\n",
        "\n",
        "        if epoch - last_eval_epoch >= 5:\n",
        "\n",
        "            result.eval_epochs.append(epoch)\n",
        "\n",
        "            result.train_accs.append(evaluate(model, train_loader).acc)\n",
        "\n",
        "            result.val_accs.append(evaluate(model, val_loader).acc)\n",
        "\n",
        "            print(\n",
        "                f\"Epoch = {epoch:> 2d}    Train acc = {result.train_accs[-1]:.2%}    Val acc = {result.val_accs[-1]:.2%}\"\n",
        "            )\n",
        "\n",
        "            last_eval_epoch = epoch\n",
        "\n",
        "        # Train over the entire `train_set` with given `train_epoch_fn` function (i.e., one epoch)\n",
        "\n",
        "        result.train_losses.extend(\n",
        "            train_epoch_fn(epoch, model, train_loader, optim, **kwargs)\n",
        "        )\n",
        "\n",
        "        # Evaluate with our `evaluate` function\n",
        "\n",
        "        print(f\"Epoch = {epoch:> 2d}    Train loss = {result.train_losses[-1]:.4f}\")\n",
        "\n",
        "\n",
        "        # Adjust learning rate if needed\n",
        "\n",
        "        scheduler.step()\n",
        "\n",
        "\n",
        "    result.eval_epochs.append(num_epochs)\n",
        "\n",
        "    result.train_accs.append(evaluate(model, train_loader).acc)\n",
        "\n",
        "    result.final_val_eval_result = evaluate(model, val_loader)\n",
        "\n",
        "    result.val_accs.append(result.final_val_eval_result.acc)\n",
        "\n",
        "    print(\n",
        "        f\"Epoch = {num_epochs:> 2d}    Train acc = {result.train_accs[-1]:.2%}    Val acc = {result.val_accs[-1]:.2%}\"\n",
        "    )\n",
        "\n",
        "    return result"
      ]
    },
    {
      "cell_type": "markdown",
      "metadata": {
        "id": "16idc1KatEsD"
      },
      "source": [
        "We provide the following learning curve plotting function (similar to homework 1)."
      ]
    },
    {
      "cell_type": "code",
      "execution_count": 12,
      "metadata": {
        "id": "ioPuiGngtEMO"
      },
      "outputs": [],
      "source": [
        "def learning_curve(result: TrainResult, *, title: str = \"Learning Curve\"):\n",
        "    r\"\"\"\n",
        "    Plot the training loss, training accuracy, and validation accuracy versus\n",
        "    epochs taken.\n",
        "    \"\"\"\n",
        "    fig, ax_loss = plt.subplots(figsize=(8, 5))\n",
        "    ax_loss.set_title(title, fontsize=16)\n",
        "    ax_loss.set_xlabel(\"Epoch\", fontsize=12)\n",
        "\n",
        "    l_trloss = ax_loss.plot(\n",
        "        torch.arange(len(result.train_losses))\n",
        "        / len(result.train_losses)\n",
        "        * result.num_epochs,\n",
        "        result.train_losses,\n",
        "        label=\"Train loss\",\n",
        "        color=\"C0\",\n",
        "    )\n",
        "    ax_loss.set_ylim(0, 4.8)\n",
        "    ax_loss.set_ylabel(\"Train loss\", color=\"C0\", fontsize=12)\n",
        "    ax_loss.tick_params(axis=\"y\", labelcolor=\"C0\")\n",
        "\n",
        "    ax_acc = ax_loss.twinx()\n",
        "    l_tracc = ax_acc.plot(\n",
        "        result.eval_epochs,\n",
        "        result.train_accs,\n",
        "        label=\"Train acc\",\n",
        "        color=\"C1\",\n",
        "        linestyle=\"--\",\n",
        "    )\n",
        "    if len(result.val_accs):\n",
        "        l_valacc = ax_acc.plot(\n",
        "            result.eval_epochs, result.val_accs, label=\"Val acc\", color=\"C1\"\n",
        "        )\n",
        "    else:\n",
        "        l_valacc = []\n",
        "    ax_acc.set_ylim(0, 1)\n",
        "    ax_acc.set_ylabel(\"Accuracies\", color=\"C1\", fontsize=12)\n",
        "    ax_acc.tick_params(axis=\"y\", labelcolor=\"C1\")\n",
        "\n",
        "    lines = l_trloss + l_tracc + l_valacc\n",
        "    ax_loss.legend(lines, [l.get_label() for l in lines], loc=\"upper left\", fontsize=13)"
      ]
    },
    {
      "cell_type": "code",
      "execution_count": 20,
      "metadata": {
        "id": "-IF50rjkL1ZF"
      },
      "outputs": [
        {
          "name": "stdout",
          "output_type": "stream",
          "text": [
            "3072 100\n",
            "Model = Sequential(\n",
            "  (0): Flatten(start_dim=1, end_dim=-1)\n",
            "  (1): Linear(in_features=3072, out_features=128, bias=True)\n",
            "  (2): ReLU()\n",
            "  (3): Linear(in_features=128, out_features=128, bias=True)\n",
            "  (4): ReLU()\n",
            "  (5): Linear(in_features=128, out_features=128, bias=True)\n",
            "  (6): ReLU()\n",
            "  (7): Linear(in_features=128, out_features=100, bias=True)\n",
            ")\n",
            "Epoch =  0    Train acc = 0.84%    Val acc = 0.70%\n"
          ]
        },
        {
          "name": "stderr",
          "output_type": "stream",
          "text": [
            "Training @ epoch 0: 100%|██████████| 98/98 [00:11<00:00,  8.39it/s]\n"
          ]
        },
        {
          "name": "stdout",
          "output_type": "stream",
          "text": [
            "Epoch =  0    Train loss = 4.6138\n"
          ]
        },
        {
          "name": "stderr",
          "output_type": "stream",
          "text": [
            "Training @ epoch 1: 100%|██████████| 98/98 [00:11<00:00,  8.58it/s]\n"
          ]
        },
        {
          "name": "stdout",
          "output_type": "stream",
          "text": [
            "Epoch =  1    Train loss = 4.6193\n"
          ]
        },
        {
          "name": "stderr",
          "output_type": "stream",
          "text": [
            "Training @ epoch 2: 100%|██████████| 98/98 [00:11<00:00,  8.79it/s]\n"
          ]
        },
        {
          "name": "stdout",
          "output_type": "stream",
          "text": [
            "Epoch =  2    Train loss = 4.6171\n"
          ]
        },
        {
          "name": "stderr",
          "output_type": "stream",
          "text": [
            "Training @ epoch 3: 100%|██████████| 98/98 [00:11<00:00,  8.46it/s]\n"
          ]
        },
        {
          "name": "stdout",
          "output_type": "stream",
          "text": [
            "Epoch =  3    Train loss = 4.6199\n"
          ]
        },
        {
          "name": "stderr",
          "output_type": "stream",
          "text": [
            "Training @ epoch 4: 100%|██████████| 98/98 [00:11<00:00,  8.50it/s]\n"
          ]
        },
        {
          "name": "stdout",
          "output_type": "stream",
          "text": [
            "Epoch =  4    Train loss = 4.6202\n",
            "Epoch =  5    Train acc = 1.00%    Val acc = 1.00%\n"
          ]
        },
        {
          "name": "stderr",
          "output_type": "stream",
          "text": [
            "Training @ epoch 5: 100%|██████████| 98/98 [00:11<00:00,  8.40it/s]\n"
          ]
        },
        {
          "name": "stdout",
          "output_type": "stream",
          "text": [
            "Epoch =  5    Train loss = 4.6169\n"
          ]
        },
        {
          "name": "stderr",
          "output_type": "stream",
          "text": [
            "Training @ epoch 6: 100%|██████████| 98/98 [00:11<00:00,  8.43it/s]\n"
          ]
        },
        {
          "name": "stdout",
          "output_type": "stream",
          "text": [
            "Epoch =  6    Train loss = 4.6175\n"
          ]
        },
        {
          "name": "stderr",
          "output_type": "stream",
          "text": [
            "Training @ epoch 7: 100%|██████████| 98/98 [00:11<00:00,  8.66it/s]\n"
          ]
        },
        {
          "name": "stdout",
          "output_type": "stream",
          "text": [
            "Epoch =  7    Train loss = 4.5999\n"
          ]
        },
        {
          "name": "stderr",
          "output_type": "stream",
          "text": [
            "Training @ epoch 8: 100%|██████████| 98/98 [00:11<00:00,  8.42it/s]\n"
          ]
        },
        {
          "name": "stdout",
          "output_type": "stream",
          "text": [
            "Epoch =  8    Train loss = 4.6161\n"
          ]
        },
        {
          "name": "stderr",
          "output_type": "stream",
          "text": [
            "Training @ epoch 9: 100%|██████████| 98/98 [00:11<00:00,  8.76it/s]\n"
          ]
        },
        {
          "name": "stdout",
          "output_type": "stream",
          "text": [
            "Epoch =  9    Train loss = 4.6131\n",
            "Epoch =  10    Train acc = 1.00%    Val acc = 1.00%\n"
          ]
        },
        {
          "name": "stderr",
          "output_type": "stream",
          "text": [
            "Training @ epoch 10: 100%|██████████| 98/98 [00:11<00:00,  8.50it/s]\n"
          ]
        },
        {
          "name": "stdout",
          "output_type": "stream",
          "text": [
            "Epoch =  10    Train loss = 4.6149\n"
          ]
        },
        {
          "name": "stderr",
          "output_type": "stream",
          "text": [
            "Training @ epoch 11: 100%|██████████| 98/98 [00:11<00:00,  8.54it/s]\n"
          ]
        },
        {
          "name": "stdout",
          "output_type": "stream",
          "text": [
            "Epoch =  11    Train loss = 4.6100\n"
          ]
        },
        {
          "name": "stderr",
          "output_type": "stream",
          "text": [
            "Training @ epoch 12: 100%|██████████| 98/98 [00:11<00:00,  8.55it/s]\n"
          ]
        },
        {
          "name": "stdout",
          "output_type": "stream",
          "text": [
            "Epoch =  12    Train loss = 4.5982\n"
          ]
        },
        {
          "name": "stderr",
          "output_type": "stream",
          "text": [
            "Training @ epoch 13: 100%|██████████| 98/98 [00:11<00:00,  8.56it/s]\n"
          ]
        },
        {
          "name": "stdout",
          "output_type": "stream",
          "text": [
            "Epoch =  13    Train loss = 4.6067\n"
          ]
        },
        {
          "name": "stderr",
          "output_type": "stream",
          "text": [
            "Training @ epoch 14: 100%|██████████| 98/98 [00:11<00:00,  8.51it/s]\n"
          ]
        },
        {
          "name": "stdout",
          "output_type": "stream",
          "text": [
            "Epoch =  14    Train loss = 4.6173\n",
            "Epoch =  15    Train acc = 1.00%    Val acc = 1.00%\n"
          ]
        },
        {
          "name": "stderr",
          "output_type": "stream",
          "text": [
            "Training @ epoch 15: 100%|██████████| 98/98 [00:11<00:00,  8.81it/s]\n"
          ]
        },
        {
          "name": "stdout",
          "output_type": "stream",
          "text": [
            "Epoch =  15    Train loss = 4.6121\n"
          ]
        },
        {
          "name": "stderr",
          "output_type": "stream",
          "text": [
            "Training @ epoch 16: 100%|██████████| 98/98 [00:10<00:00,  8.94it/s]\n"
          ]
        },
        {
          "name": "stdout",
          "output_type": "stream",
          "text": [
            "Epoch =  16    Train loss = 4.6160\n"
          ]
        },
        {
          "name": "stderr",
          "output_type": "stream",
          "text": [
            "Training @ epoch 17: 100%|██████████| 98/98 [00:11<00:00,  8.88it/s]\n"
          ]
        },
        {
          "name": "stdout",
          "output_type": "stream",
          "text": [
            "Epoch =  17    Train loss = 4.6105\n"
          ]
        },
        {
          "name": "stderr",
          "output_type": "stream",
          "text": [
            "Training @ epoch 18: 100%|██████████| 98/98 [00:11<00:00,  8.80it/s]\n"
          ]
        },
        {
          "name": "stdout",
          "output_type": "stream",
          "text": [
            "Epoch =  18    Train loss = 4.6146\n"
          ]
        },
        {
          "name": "stderr",
          "output_type": "stream",
          "text": [
            "Training @ epoch 19: 100%|██████████| 98/98 [00:11<00:00,  8.55it/s]\n"
          ]
        },
        {
          "name": "stdout",
          "output_type": "stream",
          "text": [
            "Epoch =  19    Train loss = 4.6082\n",
            "Epoch =  20    Train acc = 1.00%    Val acc = 1.00%\n"
          ]
        }
      ],
      "source": [
        "# Create a MLP 128 width, 3 depth on the GPU, train it, and plot learning curves.\n",
        "device = torch.device(\"cuda\" if torch.cuda.is_available() else \"cpu\")\n",
        "img_tensor_size = train_set[0][0].numel()\n",
        "class_num = len(train_set.classes)\n",
        "print(img_tensor_size, class_num)\n",
        "model_MLP = make_mlp(img_tensor_size, class_num, \"relu\", [128, 128, 128])\n",
        "model_MLP = model_MLP.to(device)\n",
        "result_mlp = train(model_MLP, train_set, val_set, num_epochs=20, lr=0.15)\n",
        "# train"
      ]
    },
    {
      "cell_type": "code",
      "execution_count": null,
      "metadata": {
        "id": "pRzxoA4uAYef"
      },
      "outputs": [],
      "source": [
        "# Create a MLP 128 width, 7 depth on the GPU, train it, and plot learning curves.\n",
        "model_MLP2 = make_mlp(\n",
        "    img_tensor_size, class_num, \"relu\", [128, 128, 128, 128, 128, 128, 128]\n",
        ")\n",
        "model_MLP2 = model_MLP2.to(device)\n",
        "result_mlp2 = train(model_MLP2, train_set, val_set, num_epochs=20, lr=0.15)"
      ]
    },
    {
      "cell_type": "code",
      "execution_count": 22,
      "metadata": {
        "id": "906E2ktx1nfH"
      },
      "outputs": [
        {
          "name": "stdout",
          "output_type": "stream",
          "text": [
            "Model = Sequential(\n",
            "  (0): Conv2d(3, 12, kernel_size=(5, 5), stride=(1, 1), padding=(2, 2), padding_mode=reflect)\n",
            "  (1): ReLU()\n",
            "  (2): Conv2d(12, 64, kernel_size=(3, 3), stride=(2, 2), padding=(1, 1))\n",
            "  (3): ReLU()\n",
            "  (4): Conv2d(64, 64, kernel_size=(3, 3), stride=(2, 2), padding=(1, 1))\n",
            "  (5): ReLU()\n",
            "  (6): Conv2d(64, 64, kernel_size=(3, 3), stride=(2, 2), padding=(1, 1))\n",
            "  (7): ReLU()\n",
            "  (8): Flatten(start_dim=1, end_dim=-1)\n",
            "  (9): LazyLinear(in_features=0, out_features=128, bias=True)\n",
            "  (10): ReLU()\n",
            "  (11): LazyLinear(in_features=0, out_features=128, bias=True)\n",
            "  (12): ReLU()\n",
            "  (13): LazyLinear(in_features=0, out_features=100, bias=True)\n",
            ")\n",
            "Epoch =  0    Train acc = 1.00%    Val acc = 1.00%\n"
          ]
        },
        {
          "name": "stderr",
          "output_type": "stream",
          "text": [
            "Training @ epoch 0: 100%|██████████| 98/98 [00:12<00:00,  7.96it/s]\n"
          ]
        },
        {
          "name": "stdout",
          "output_type": "stream",
          "text": [
            "Epoch =  0    Train loss = 4.6131\n"
          ]
        },
        {
          "name": "stderr",
          "output_type": "stream",
          "text": [
            "Training @ epoch 1: 100%|██████████| 98/98 [00:11<00:00,  8.23it/s]\n"
          ]
        },
        {
          "name": "stdout",
          "output_type": "stream",
          "text": [
            "Epoch =  1    Train loss = 4.6241\n"
          ]
        },
        {
          "name": "stderr",
          "output_type": "stream",
          "text": [
            "Training @ epoch 2:  64%|██████▍   | 63/98 [00:07<00:04,  8.11it/s]\n"
          ]
        },
        {
          "ename": "KeyboardInterrupt",
          "evalue": "",
          "output_type": "error",
          "traceback": [
            "\u001b[1;31m---------------------------------------------------------------------------\u001b[0m",
            "\u001b[1;31mKeyboardInterrupt\u001b[0m                         Traceback (most recent call last)",
            "Cell \u001b[1;32mIn[22], line 4\u001b[0m\n\u001b[0;32m      2\u001b[0m model_CNN \u001b[38;5;241m=\u001b[39m make_cnn(class_num, \u001b[38;5;124m\"\u001b[39m\u001b[38;5;124mrelu\u001b[39m\u001b[38;5;124m\"\u001b[39m, \u001b[38;5;241m4\u001b[39m, \u001b[38;5;241m3\u001b[39m)\n\u001b[0;32m      3\u001b[0m model_CNN \u001b[38;5;241m=\u001b[39m model_CNN\u001b[38;5;241m.\u001b[39mto(device)\n\u001b[1;32m----> 4\u001b[0m result_cnn \u001b[38;5;241m=\u001b[39m \u001b[43mtrain\u001b[49m\u001b[43m(\u001b[49m\u001b[43mmodel_CNN\u001b[49m\u001b[43m,\u001b[49m\u001b[43m \u001b[49m\u001b[43mtrain_set\u001b[49m\u001b[43m,\u001b[49m\u001b[43m \u001b[49m\u001b[43mval_set\u001b[49m\u001b[43m,\u001b[49m\u001b[43m \u001b[49m\u001b[43mnum_epochs\u001b[49m\u001b[38;5;241;43m=\u001b[39;49m\u001b[38;5;241;43m20\u001b[39;49m\u001b[43m,\u001b[49m\u001b[43m \u001b[49m\u001b[43mlr\u001b[49m\u001b[38;5;241;43m=\u001b[39;49m\u001b[38;5;241;43m0.15\u001b[39;49m\u001b[43m)\u001b[49m\n",
            "Cell \u001b[1;32mIn[18], line 973\u001b[0m, in \u001b[0;36mtrain\u001b[1;34m(model, train_set, val_set, num_epochs, lr, train_epoch_fn, **kwargs)\u001b[0m\n\u001b[0;32m    968\u001b[0m     last_eval_epoch \u001b[38;5;241m=\u001b[39m epoch\n\u001b[0;32m    970\u001b[0m \u001b[38;5;66;03m# Train over the entire `train_set` with given `train_epoch_fn` function (i.e., one epoch)\u001b[39;00m\n\u001b[0;32m    972\u001b[0m result\u001b[38;5;241m.\u001b[39mtrain_losses\u001b[38;5;241m.\u001b[39mextend(\n\u001b[1;32m--> 973\u001b[0m     train_epoch_fn(epoch, model, train_loader, optim, \u001b[38;5;241m*\u001b[39m\u001b[38;5;241m*\u001b[39mkwargs)\n\u001b[0;32m    974\u001b[0m )\n\u001b[0;32m    976\u001b[0m \u001b[38;5;66;03m# Evaluate with our `evaluate` function\u001b[39;00m\n\u001b[0;32m    978\u001b[0m \u001b[38;5;28mprint\u001b[39m(\u001b[38;5;124mf\u001b[39m\u001b[38;5;124m\"\u001b[39m\u001b[38;5;124mEpoch = \u001b[39m\u001b[38;5;132;01m{\u001b[39;00mepoch\u001b[38;5;132;01m:\u001b[39;00m\u001b[38;5;124m> 2d\u001b[39m\u001b[38;5;132;01m}\u001b[39;00m\u001b[38;5;124m    Train loss = \u001b[39m\u001b[38;5;132;01m{\u001b[39;00mresult\u001b[38;5;241m.\u001b[39mtrain_losses[\u001b[38;5;241m-\u001b[39m\u001b[38;5;241m1\u001b[39m]\u001b[38;5;132;01m:\u001b[39;00m\u001b[38;5;124m.4f\u001b[39m\u001b[38;5;132;01m}\u001b[39;00m\u001b[38;5;124m\"\u001b[39m)\n",
            "Cell \u001b[1;32mIn[18], line 317\u001b[0m, in \u001b[0;36mtrain_epoch\u001b[1;34m(epoch, model, train_loader, optim)\u001b[0m\n\u001b[0;32m    312\u001b[0m loss_values: List[\u001b[38;5;28mfloat\u001b[39m] \u001b[38;5;241m=\u001b[39m []\n\u001b[0;32m    314\u001b[0m loss_fn \u001b[38;5;241m=\u001b[39m nn\u001b[38;5;241m.\u001b[39mCrossEntropyLoss()\n\u001b[1;32m--> 317\u001b[0m \u001b[38;5;28;01mfor\u001b[39;00m data, target \u001b[38;5;129;01min\u001b[39;00m tqdm(train_loader, desc\u001b[38;5;241m=\u001b[39m\u001b[38;5;124mf\u001b[39m\u001b[38;5;124m\"\u001b[39m\u001b[38;5;124mTraining @ epoch \u001b[39m\u001b[38;5;132;01m{\u001b[39;00mepoch\u001b[38;5;132;01m}\u001b[39;00m\u001b[38;5;124m\"\u001b[39m):\n\u001b[0;32m    318\u001b[0m     optim\u001b[38;5;241m.\u001b[39mzero_grad()\n\u001b[0;32m    319\u001b[0m     data \u001b[38;5;241m=\u001b[39m data\u001b[38;5;241m.\u001b[39mto(device)\n",
            "File \u001b[1;32mc:\\Users\\moumo\\anaconda3\\envs\\dl_psets\\lib\\site-packages\\tqdm\\std.py:1181\u001b[0m, in \u001b[0;36mtqdm.__iter__\u001b[1;34m(self)\u001b[0m\n\u001b[0;32m   1178\u001b[0m time \u001b[38;5;241m=\u001b[39m \u001b[38;5;28mself\u001b[39m\u001b[38;5;241m.\u001b[39m_time\n\u001b[0;32m   1180\u001b[0m \u001b[38;5;28;01mtry\u001b[39;00m:\n\u001b[1;32m-> 1181\u001b[0m     \u001b[38;5;28;01mfor\u001b[39;00m obj \u001b[38;5;129;01min\u001b[39;00m iterable:\n\u001b[0;32m   1182\u001b[0m         \u001b[38;5;28;01myield\u001b[39;00m obj\n\u001b[0;32m   1183\u001b[0m         \u001b[38;5;66;03m# Update and possibly print the progressbar.\u001b[39;00m\n\u001b[0;32m   1184\u001b[0m         \u001b[38;5;66;03m# Note: does not call self.update(1) for speed optimisation.\u001b[39;00m\n",
            "File \u001b[1;32mc:\\Users\\moumo\\anaconda3\\envs\\dl_psets\\lib\\site-packages\\torch\\utils\\data\\dataloader.py:630\u001b[0m, in \u001b[0;36m_BaseDataLoaderIter.__next__\u001b[1;34m(self)\u001b[0m\n\u001b[0;32m    627\u001b[0m \u001b[38;5;28;01mif\u001b[39;00m \u001b[38;5;28mself\u001b[39m\u001b[38;5;241m.\u001b[39m_sampler_iter \u001b[38;5;129;01mis\u001b[39;00m \u001b[38;5;28;01mNone\u001b[39;00m:\n\u001b[0;32m    628\u001b[0m     \u001b[38;5;66;03m# TODO(https://github.com/pytorch/pytorch/issues/76750)\u001b[39;00m\n\u001b[0;32m    629\u001b[0m     \u001b[38;5;28mself\u001b[39m\u001b[38;5;241m.\u001b[39m_reset()  \u001b[38;5;66;03m# type: ignore[call-arg]\u001b[39;00m\n\u001b[1;32m--> 630\u001b[0m data \u001b[38;5;241m=\u001b[39m \u001b[38;5;28;43mself\u001b[39;49m\u001b[38;5;241;43m.\u001b[39;49m\u001b[43m_next_data\u001b[49m\u001b[43m(\u001b[49m\u001b[43m)\u001b[49m\n\u001b[0;32m    631\u001b[0m \u001b[38;5;28mself\u001b[39m\u001b[38;5;241m.\u001b[39m_num_yielded \u001b[38;5;241m+\u001b[39m\u001b[38;5;241m=\u001b[39m \u001b[38;5;241m1\u001b[39m\n\u001b[0;32m    632\u001b[0m \u001b[38;5;28;01mif\u001b[39;00m \u001b[38;5;28mself\u001b[39m\u001b[38;5;241m.\u001b[39m_dataset_kind \u001b[38;5;241m==\u001b[39m _DatasetKind\u001b[38;5;241m.\u001b[39mIterable \u001b[38;5;129;01mand\u001b[39;00m \\\n\u001b[0;32m    633\u001b[0m         \u001b[38;5;28mself\u001b[39m\u001b[38;5;241m.\u001b[39m_IterableDataset_len_called \u001b[38;5;129;01mis\u001b[39;00m \u001b[38;5;129;01mnot\u001b[39;00m \u001b[38;5;28;01mNone\u001b[39;00m \u001b[38;5;129;01mand\u001b[39;00m \\\n\u001b[0;32m    634\u001b[0m         \u001b[38;5;28mself\u001b[39m\u001b[38;5;241m.\u001b[39m_num_yielded \u001b[38;5;241m>\u001b[39m \u001b[38;5;28mself\u001b[39m\u001b[38;5;241m.\u001b[39m_IterableDataset_len_called:\n",
            "File \u001b[1;32mc:\\Users\\moumo\\anaconda3\\envs\\dl_psets\\lib\\site-packages\\torch\\utils\\data\\dataloader.py:673\u001b[0m, in \u001b[0;36m_SingleProcessDataLoaderIter._next_data\u001b[1;34m(self)\u001b[0m\n\u001b[0;32m    671\u001b[0m \u001b[38;5;28;01mdef\u001b[39;00m \u001b[38;5;21m_next_data\u001b[39m(\u001b[38;5;28mself\u001b[39m):\n\u001b[0;32m    672\u001b[0m     index \u001b[38;5;241m=\u001b[39m \u001b[38;5;28mself\u001b[39m\u001b[38;5;241m.\u001b[39m_next_index()  \u001b[38;5;66;03m# may raise StopIteration\u001b[39;00m\n\u001b[1;32m--> 673\u001b[0m     data \u001b[38;5;241m=\u001b[39m \u001b[38;5;28;43mself\u001b[39;49m\u001b[38;5;241;43m.\u001b[39;49m\u001b[43m_dataset_fetcher\u001b[49m\u001b[38;5;241;43m.\u001b[39;49m\u001b[43mfetch\u001b[49m\u001b[43m(\u001b[49m\u001b[43mindex\u001b[49m\u001b[43m)\u001b[49m  \u001b[38;5;66;03m# may raise StopIteration\u001b[39;00m\n\u001b[0;32m    674\u001b[0m     \u001b[38;5;28;01mif\u001b[39;00m \u001b[38;5;28mself\u001b[39m\u001b[38;5;241m.\u001b[39m_pin_memory:\n\u001b[0;32m    675\u001b[0m         data \u001b[38;5;241m=\u001b[39m _utils\u001b[38;5;241m.\u001b[39mpin_memory\u001b[38;5;241m.\u001b[39mpin_memory(data, \u001b[38;5;28mself\u001b[39m\u001b[38;5;241m.\u001b[39m_pin_memory_device)\n",
            "File \u001b[1;32mc:\\Users\\moumo\\anaconda3\\envs\\dl_psets\\lib\\site-packages\\torch\\utils\\data\\_utils\\fetch.py:52\u001b[0m, in \u001b[0;36m_MapDatasetFetcher.fetch\u001b[1;34m(self, possibly_batched_index)\u001b[0m\n\u001b[0;32m     50\u001b[0m         data \u001b[38;5;241m=\u001b[39m \u001b[38;5;28mself\u001b[39m\u001b[38;5;241m.\u001b[39mdataset\u001b[38;5;241m.\u001b[39m__getitems__(possibly_batched_index)\n\u001b[0;32m     51\u001b[0m     \u001b[38;5;28;01melse\u001b[39;00m:\n\u001b[1;32m---> 52\u001b[0m         data \u001b[38;5;241m=\u001b[39m [\u001b[38;5;28mself\u001b[39m\u001b[38;5;241m.\u001b[39mdataset[idx] \u001b[38;5;28;01mfor\u001b[39;00m idx \u001b[38;5;129;01min\u001b[39;00m possibly_batched_index]\n\u001b[0;32m     53\u001b[0m \u001b[38;5;28;01melse\u001b[39;00m:\n\u001b[0;32m     54\u001b[0m     data \u001b[38;5;241m=\u001b[39m \u001b[38;5;28mself\u001b[39m\u001b[38;5;241m.\u001b[39mdataset[possibly_batched_index]\n",
            "File \u001b[1;32mc:\\Users\\moumo\\anaconda3\\envs\\dl_psets\\lib\\site-packages\\torch\\utils\\data\\_utils\\fetch.py:52\u001b[0m, in \u001b[0;36m<listcomp>\u001b[1;34m(.0)\u001b[0m\n\u001b[0;32m     50\u001b[0m         data \u001b[38;5;241m=\u001b[39m \u001b[38;5;28mself\u001b[39m\u001b[38;5;241m.\u001b[39mdataset\u001b[38;5;241m.\u001b[39m__getitems__(possibly_batched_index)\n\u001b[0;32m     51\u001b[0m     \u001b[38;5;28;01melse\u001b[39;00m:\n\u001b[1;32m---> 52\u001b[0m         data \u001b[38;5;241m=\u001b[39m [\u001b[38;5;28;43mself\u001b[39;49m\u001b[38;5;241;43m.\u001b[39;49m\u001b[43mdataset\u001b[49m\u001b[43m[\u001b[49m\u001b[43midx\u001b[49m\u001b[43m]\u001b[49m \u001b[38;5;28;01mfor\u001b[39;00m idx \u001b[38;5;129;01min\u001b[39;00m possibly_batched_index]\n\u001b[0;32m     53\u001b[0m \u001b[38;5;28;01melse\u001b[39;00m:\n\u001b[0;32m     54\u001b[0m     data \u001b[38;5;241m=\u001b[39m \u001b[38;5;28mself\u001b[39m\u001b[38;5;241m.\u001b[39mdataset[possibly_batched_index]\n",
            "File \u001b[1;32mc:\\Users\\moumo\\anaconda3\\envs\\dl_psets\\lib\\site-packages\\torchvision\\datasets\\cifar.py:119\u001b[0m, in \u001b[0;36mCIFAR10.__getitem__\u001b[1;34m(self, index)\u001b[0m\n\u001b[0;32m    116\u001b[0m img \u001b[38;5;241m=\u001b[39m Image\u001b[38;5;241m.\u001b[39mfromarray(img)\n\u001b[0;32m    118\u001b[0m \u001b[38;5;28;01mif\u001b[39;00m \u001b[38;5;28mself\u001b[39m\u001b[38;5;241m.\u001b[39mtransform \u001b[38;5;129;01mis\u001b[39;00m \u001b[38;5;129;01mnot\u001b[39;00m \u001b[38;5;28;01mNone\u001b[39;00m:\n\u001b[1;32m--> 119\u001b[0m     img \u001b[38;5;241m=\u001b[39m \u001b[38;5;28;43mself\u001b[39;49m\u001b[38;5;241;43m.\u001b[39;49m\u001b[43mtransform\u001b[49m\u001b[43m(\u001b[49m\u001b[43mimg\u001b[49m\u001b[43m)\u001b[49m\n\u001b[0;32m    121\u001b[0m \u001b[38;5;28;01mif\u001b[39;00m \u001b[38;5;28mself\u001b[39m\u001b[38;5;241m.\u001b[39mtarget_transform \u001b[38;5;129;01mis\u001b[39;00m \u001b[38;5;129;01mnot\u001b[39;00m \u001b[38;5;28;01mNone\u001b[39;00m:\n\u001b[0;32m    122\u001b[0m     target \u001b[38;5;241m=\u001b[39m \u001b[38;5;28mself\u001b[39m\u001b[38;5;241m.\u001b[39mtarget_transform(target)\n",
            "File \u001b[1;32mc:\\Users\\moumo\\anaconda3\\envs\\dl_psets\\lib\\site-packages\\torchvision\\transforms\\transforms.py:95\u001b[0m, in \u001b[0;36mCompose.__call__\u001b[1;34m(self, img)\u001b[0m\n\u001b[0;32m     93\u001b[0m \u001b[38;5;28;01mdef\u001b[39;00m \u001b[38;5;21m__call__\u001b[39m(\u001b[38;5;28mself\u001b[39m, img):\n\u001b[0;32m     94\u001b[0m     \u001b[38;5;28;01mfor\u001b[39;00m t \u001b[38;5;129;01min\u001b[39;00m \u001b[38;5;28mself\u001b[39m\u001b[38;5;241m.\u001b[39mtransforms:\n\u001b[1;32m---> 95\u001b[0m         img \u001b[38;5;241m=\u001b[39m \u001b[43mt\u001b[49m\u001b[43m(\u001b[49m\u001b[43mimg\u001b[49m\u001b[43m)\u001b[49m\n\u001b[0;32m     96\u001b[0m     \u001b[38;5;28;01mreturn\u001b[39;00m img\n",
            "File \u001b[1;32mc:\\Users\\moumo\\anaconda3\\envs\\dl_psets\\lib\\site-packages\\torch\\nn\\modules\\module.py:1553\u001b[0m, in \u001b[0;36mModule._wrapped_call_impl\u001b[1;34m(self, *args, **kwargs)\u001b[0m\n\u001b[0;32m   1551\u001b[0m     \u001b[38;5;28;01mreturn\u001b[39;00m \u001b[38;5;28mself\u001b[39m\u001b[38;5;241m.\u001b[39m_compiled_call_impl(\u001b[38;5;241m*\u001b[39margs, \u001b[38;5;241m*\u001b[39m\u001b[38;5;241m*\u001b[39mkwargs)  \u001b[38;5;66;03m# type: ignore[misc]\u001b[39;00m\n\u001b[0;32m   1552\u001b[0m \u001b[38;5;28;01melse\u001b[39;00m:\n\u001b[1;32m-> 1553\u001b[0m     \u001b[38;5;28;01mreturn\u001b[39;00m \u001b[38;5;28mself\u001b[39m\u001b[38;5;241m.\u001b[39m_call_impl(\u001b[38;5;241m*\u001b[39margs, \u001b[38;5;241m*\u001b[39m\u001b[38;5;241m*\u001b[39mkwargs)\n",
            "File \u001b[1;32mc:\\Users\\moumo\\anaconda3\\envs\\dl_psets\\lib\\site-packages\\torch\\nn\\modules\\module.py:1562\u001b[0m, in \u001b[0;36mModule._call_impl\u001b[1;34m(self, *args, **kwargs)\u001b[0m\n\u001b[0;32m   1557\u001b[0m \u001b[38;5;66;03m# If we don't have any hooks, we want to skip the rest of the logic in\u001b[39;00m\n\u001b[0;32m   1558\u001b[0m \u001b[38;5;66;03m# this function, and just call forward.\u001b[39;00m\n\u001b[0;32m   1559\u001b[0m \u001b[38;5;28;01mif\u001b[39;00m \u001b[38;5;129;01mnot\u001b[39;00m (\u001b[38;5;28mself\u001b[39m\u001b[38;5;241m.\u001b[39m_backward_hooks \u001b[38;5;129;01mor\u001b[39;00m \u001b[38;5;28mself\u001b[39m\u001b[38;5;241m.\u001b[39m_backward_pre_hooks \u001b[38;5;129;01mor\u001b[39;00m \u001b[38;5;28mself\u001b[39m\u001b[38;5;241m.\u001b[39m_forward_hooks \u001b[38;5;129;01mor\u001b[39;00m \u001b[38;5;28mself\u001b[39m\u001b[38;5;241m.\u001b[39m_forward_pre_hooks\n\u001b[0;32m   1560\u001b[0m         \u001b[38;5;129;01mor\u001b[39;00m _global_backward_pre_hooks \u001b[38;5;129;01mor\u001b[39;00m _global_backward_hooks\n\u001b[0;32m   1561\u001b[0m         \u001b[38;5;129;01mor\u001b[39;00m _global_forward_hooks \u001b[38;5;129;01mor\u001b[39;00m _global_forward_pre_hooks):\n\u001b[1;32m-> 1562\u001b[0m     \u001b[38;5;28;01mreturn\u001b[39;00m forward_call(\u001b[38;5;241m*\u001b[39margs, \u001b[38;5;241m*\u001b[39m\u001b[38;5;241m*\u001b[39mkwargs)\n\u001b[0;32m   1564\u001b[0m \u001b[38;5;28;01mtry\u001b[39;00m:\n\u001b[0;32m   1565\u001b[0m     result \u001b[38;5;241m=\u001b[39m \u001b[38;5;28;01mNone\u001b[39;00m\n",
            "File \u001b[1;32mc:\\Users\\moumo\\anaconda3\\envs\\dl_psets\\lib\\site-packages\\torchvision\\transforms\\transforms.py:681\u001b[0m, in \u001b[0;36mRandomCrop.forward\u001b[1;34m(self, img)\u001b[0m\n\u001b[0;32m    678\u001b[0m     padding \u001b[38;5;241m=\u001b[39m [\u001b[38;5;241m0\u001b[39m, \u001b[38;5;28mself\u001b[39m\u001b[38;5;241m.\u001b[39msize[\u001b[38;5;241m0\u001b[39m] \u001b[38;5;241m-\u001b[39m height]\n\u001b[0;32m    679\u001b[0m     img \u001b[38;5;241m=\u001b[39m F\u001b[38;5;241m.\u001b[39mpad(img, padding, \u001b[38;5;28mself\u001b[39m\u001b[38;5;241m.\u001b[39mfill, \u001b[38;5;28mself\u001b[39m\u001b[38;5;241m.\u001b[39mpadding_mode)\n\u001b[1;32m--> 681\u001b[0m i, j, h, w \u001b[38;5;241m=\u001b[39m \u001b[38;5;28;43mself\u001b[39;49m\u001b[38;5;241;43m.\u001b[39;49m\u001b[43mget_params\u001b[49m\u001b[43m(\u001b[49m\u001b[43mimg\u001b[49m\u001b[43m,\u001b[49m\u001b[43m \u001b[49m\u001b[38;5;28;43mself\u001b[39;49m\u001b[38;5;241;43m.\u001b[39;49m\u001b[43msize\u001b[49m\u001b[43m)\u001b[49m\n\u001b[0;32m    683\u001b[0m \u001b[38;5;28;01mreturn\u001b[39;00m F\u001b[38;5;241m.\u001b[39mcrop(img, i, j, h, w)\n",
            "File \u001b[1;32mc:\\Users\\moumo\\anaconda3\\envs\\dl_psets\\lib\\site-packages\\torchvision\\transforms\\transforms.py:645\u001b[0m, in \u001b[0;36mRandomCrop.get_params\u001b[1;34m(img, output_size)\u001b[0m\n\u001b[0;32m    642\u001b[0m \u001b[38;5;28;01mif\u001b[39;00m w \u001b[38;5;241m==\u001b[39m tw \u001b[38;5;129;01mand\u001b[39;00m h \u001b[38;5;241m==\u001b[39m th:\n\u001b[0;32m    643\u001b[0m     \u001b[38;5;28;01mreturn\u001b[39;00m \u001b[38;5;241m0\u001b[39m, \u001b[38;5;241m0\u001b[39m, h, w\n\u001b[1;32m--> 645\u001b[0m i \u001b[38;5;241m=\u001b[39m \u001b[43mtorch\u001b[49m\u001b[38;5;241;43m.\u001b[39;49m\u001b[43mrandint\u001b[49m\u001b[43m(\u001b[49m\u001b[38;5;241;43m0\u001b[39;49m\u001b[43m,\u001b[49m\u001b[43m \u001b[49m\u001b[43mh\u001b[49m\u001b[43m \u001b[49m\u001b[38;5;241;43m-\u001b[39;49m\u001b[43m \u001b[49m\u001b[43mth\u001b[49m\u001b[43m \u001b[49m\u001b[38;5;241;43m+\u001b[39;49m\u001b[43m \u001b[49m\u001b[38;5;241;43m1\u001b[39;49m\u001b[43m,\u001b[49m\u001b[43m \u001b[49m\u001b[43msize\u001b[49m\u001b[38;5;241;43m=\u001b[39;49m\u001b[43m(\u001b[49m\u001b[38;5;241;43m1\u001b[39;49m\u001b[43m,\u001b[49m\u001b[43m)\u001b[49m\u001b[43m)\u001b[49m\u001b[38;5;241m.\u001b[39mitem()\n\u001b[0;32m    646\u001b[0m j \u001b[38;5;241m=\u001b[39m torch\u001b[38;5;241m.\u001b[39mrandint(\u001b[38;5;241m0\u001b[39m, w \u001b[38;5;241m-\u001b[39m tw \u001b[38;5;241m+\u001b[39m \u001b[38;5;241m1\u001b[39m, size\u001b[38;5;241m=\u001b[39m(\u001b[38;5;241m1\u001b[39m,))\u001b[38;5;241m.\u001b[39mitem()\n\u001b[0;32m    647\u001b[0m \u001b[38;5;28;01mreturn\u001b[39;00m i, j, th, tw\n",
            "\u001b[1;31mKeyboardInterrupt\u001b[0m: "
          ]
        }
      ],
      "source": [
        "# Create a CNN 4 convolutional layers, 3 MLP layers on the GPU, train it, and plot learning curves.\n",
        "model_CNN = make_cnn(class_num, \"relu\", 4, 3)\n",
        "model_CNN = model_CNN.to(device)\n",
        "result_cnn = train(model_CNN, train_set, val_set, num_epochs=20, lr=0.15)"
      ]
    }
  ],
  "metadata": {
    "accelerator": "GPU",
    "colab": {
      "provenance": []
    },
    "gpuClass": "standard",
    "kernelspec": {
      "display_name": "Python 3",
      "language": "python",
      "name": "python3"
    },
    "language_info": {
      "codemirror_mode": {
        "name": "ipython",
        "version": 3
      },
      "file_extension": ".py",
      "mimetype": "text/x-python",
      "name": "python",
      "nbconvert_exporter": "python",
      "pygments_lexer": "ipython3",
      "version": "3.9.19"
    }
  },
  "nbformat": 4,
  "nbformat_minor": 0
}
